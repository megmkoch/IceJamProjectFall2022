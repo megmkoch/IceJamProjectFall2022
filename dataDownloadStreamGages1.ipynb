{
  "nbformat": 4,
  "nbformat_minor": 0,
  "metadata": {
    "colab": {
      "provenance": [],
      "authorship_tag": "ABX9TyM6ylC6aPyYfKW7ueeZAaIi",
      "include_colab_link": true
    },
    "kernelspec": {
      "name": "python3",
      "display_name": "Python 3"
    },
    "language_info": {
      "name": "python"
    }
  },
  "cells": [
    {
      "cell_type": "markdown",
      "metadata": {
        "id": "view-in-github",
        "colab_type": "text"
      },
      "source": [
        "<a href=\"https://colab.research.google.com/github/megmkoch/IceJamProjectFall2022/blob/main/dataDownloadStreamGages1.ipynb\" target=\"_parent\"><img src=\"https://colab.research.google.com/assets/colab-badge.svg\" alt=\"Open In Colab\"/></a>"
      ]
    },
    {
      "cell_type": "code",
      "execution_count": 13,
      "metadata": {
        "colab": {
          "base_uri": "https://localhost:8080/"
        },
        "id": "J5O3NlqX_tct",
        "outputId": "a7ffcfca-eff4-40ae-b748-903c31dc55ce"
      },
      "outputs": [
        {
          "output_type": "stream",
          "name": "stdout",
          "text": [
            "Looking in indexes: https://pypi.org/simple, https://us-python.pkg.dev/colab-wheels/public/simple/\n",
            "Requirement already satisfied: geopandas in /usr/local/lib/python3.8/dist-packages (0.12.2)\n",
            "Requirement already satisfied: pyproj>=2.6.1.post1 in /usr/local/lib/python3.8/dist-packages (from geopandas) (3.4.1)\n",
            "Requirement already satisfied: packaging in /usr/local/lib/python3.8/dist-packages (from geopandas) (21.3)\n",
            "Requirement already satisfied: shapely>=1.7 in /usr/local/lib/python3.8/dist-packages (from geopandas) (1.8.5.post1)\n",
            "Requirement already satisfied: fiona>=1.8 in /usr/local/lib/python3.8/dist-packages (from geopandas) (1.8.22)\n",
            "Requirement already satisfied: pandas>=1.0.0 in /usr/local/lib/python3.8/dist-packages (from geopandas) (1.3.5)\n",
            "Requirement already satisfied: cligj>=0.5 in /usr/local/lib/python3.8/dist-packages (from fiona>=1.8->geopandas) (0.7.2)\n",
            "Requirement already satisfied: setuptools in /usr/local/lib/python3.8/dist-packages (from fiona>=1.8->geopandas) (57.4.0)\n",
            "Requirement already satisfied: certifi in /usr/local/lib/python3.8/dist-packages (from fiona>=1.8->geopandas) (2022.9.24)\n",
            "Requirement already satisfied: attrs>=17 in /usr/local/lib/python3.8/dist-packages (from fiona>=1.8->geopandas) (22.1.0)\n",
            "Requirement already satisfied: click-plugins>=1.0 in /usr/local/lib/python3.8/dist-packages (from fiona>=1.8->geopandas) (1.1.1)\n",
            "Requirement already satisfied: munch in /usr/local/lib/python3.8/dist-packages (from fiona>=1.8->geopandas) (2.5.0)\n",
            "Requirement already satisfied: click>=4.0 in /usr/local/lib/python3.8/dist-packages (from fiona>=1.8->geopandas) (5.1)\n",
            "Requirement already satisfied: six>=1.7 in /usr/local/lib/python3.8/dist-packages (from fiona>=1.8->geopandas) (1.15.0)\n",
            "Requirement already satisfied: python-dateutil>=2.7.3 in /usr/local/lib/python3.8/dist-packages (from pandas>=1.0.0->geopandas) (2.8.2)\n",
            "Requirement already satisfied: pytz>=2017.3 in /usr/local/lib/python3.8/dist-packages (from pandas>=1.0.0->geopandas) (2022.6)\n",
            "Requirement already satisfied: numpy>=1.17.3 in /usr/local/lib/python3.8/dist-packages (from pandas>=1.0.0->geopandas) (1.21.6)\n",
            "Requirement already satisfied: pyparsing!=3.0.5,>=2.0.2 in /usr/local/lib/python3.8/dist-packages (from packaging->geopandas) (3.0.9)\n",
            "Looking in indexes: https://pypi.org/simple, https://us-python.pkg.dev/colab-wheels/public/simple/\n",
            "Requirement already satisfied: libpysal in /usr/local/lib/python3.8/dist-packages (4.7.0)\n",
            "Requirement already satisfied: requests in /usr/local/lib/python3.8/dist-packages (from libpysal) (2.23.0)\n",
            "Requirement already satisfied: pandas in /usr/local/lib/python3.8/dist-packages (from libpysal) (1.3.5)\n",
            "Requirement already satisfied: platformdirs in /usr/local/lib/python3.8/dist-packages (from libpysal) (2.5.4)\n",
            "Requirement already satisfied: numpy>=1.3 in /usr/local/lib/python3.8/dist-packages (from libpysal) (1.21.6)\n",
            "Requirement already satisfied: beautifulsoup4 in /usr/local/lib/python3.8/dist-packages (from libpysal) (4.6.3)\n",
            "Requirement already satisfied: packaging in /usr/local/lib/python3.8/dist-packages (from libpysal) (21.3)\n",
            "Requirement already satisfied: scipy>=0.11 in /usr/local/lib/python3.8/dist-packages (from libpysal) (1.7.3)\n",
            "Requirement already satisfied: jinja2 in /usr/local/lib/python3.8/dist-packages (from libpysal) (2.11.3)\n",
            "Requirement already satisfied: MarkupSafe>=0.23 in /usr/local/lib/python3.8/dist-packages (from jinja2->libpysal) (2.0.1)\n",
            "Requirement already satisfied: pyparsing!=3.0.5,>=2.0.2 in /usr/local/lib/python3.8/dist-packages (from packaging->libpysal) (3.0.9)\n",
            "Requirement already satisfied: python-dateutil>=2.7.3 in /usr/local/lib/python3.8/dist-packages (from pandas->libpysal) (2.8.2)\n",
            "Requirement already satisfied: pytz>=2017.3 in /usr/local/lib/python3.8/dist-packages (from pandas->libpysal) (2022.6)\n",
            "Requirement already satisfied: six>=1.5 in /usr/local/lib/python3.8/dist-packages (from python-dateutil>=2.7.3->pandas->libpysal) (1.15.0)\n",
            "Requirement already satisfied: certifi>=2017.4.17 in /usr/local/lib/python3.8/dist-packages (from requests->libpysal) (2022.9.24)\n",
            "Requirement already satisfied: urllib3!=1.25.0,!=1.25.1,<1.26,>=1.21.1 in /usr/local/lib/python3.8/dist-packages (from requests->libpysal) (1.24.3)\n",
            "Requirement already satisfied: chardet<4,>=3.0.2 in /usr/local/lib/python3.8/dist-packages (from requests->libpysal) (3.0.4)\n",
            "Requirement already satisfied: idna<3,>=2.5 in /usr/local/lib/python3.8/dist-packages (from requests->libpysal) (2.10)\n",
            "Looking in indexes: https://pypi.org/simple, https://us-python.pkg.dev/colab-wheels/public/simple/\n",
            "Requirement already satisfied: rasterio in /usr/local/lib/python3.8/dist-packages (1.3.4)\n",
            "Requirement already satisfied: cligj>=0.5 in /usr/local/lib/python3.8/dist-packages (from rasterio) (0.7.2)\n",
            "Requirement already satisfied: click-plugins in /usr/local/lib/python3.8/dist-packages (from rasterio) (1.1.1)\n",
            "Requirement already satisfied: affine in /usr/local/lib/python3.8/dist-packages (from rasterio) (2.3.1)\n",
            "Requirement already satisfied: attrs in /usr/local/lib/python3.8/dist-packages (from rasterio) (22.1.0)\n",
            "Requirement already satisfied: snuggs>=1.4.1 in /usr/local/lib/python3.8/dist-packages (from rasterio) (1.4.7)\n",
            "Requirement already satisfied: setuptools in /usr/local/lib/python3.8/dist-packages (from rasterio) (57.4.0)\n",
            "Requirement already satisfied: certifi in /usr/local/lib/python3.8/dist-packages (from rasterio) (2022.9.24)\n",
            "Requirement already satisfied: click>=4.0 in /usr/local/lib/python3.8/dist-packages (from rasterio) (5.1)\n",
            "Requirement already satisfied: numpy>=1.18 in /usr/local/lib/python3.8/dist-packages (from rasterio) (1.21.6)\n",
            "Requirement already satisfied: pyparsing>=2.1.6 in /usr/local/lib/python3.8/dist-packages (from snuggs>=1.4.1->rasterio) (3.0.9)\n",
            "Looking in indexes: https://pypi.org/simple, https://us-python.pkg.dev/colab-wheels/public/simple/\n",
            "Requirement already satisfied: earthpy in /usr/local/lib/python3.8/dist-packages (0.9.4)\n",
            "Requirement already satisfied: geopandas in /usr/local/lib/python3.8/dist-packages (from earthpy) (0.12.2)\n",
            "Requirement already satisfied: rasterio in /usr/local/lib/python3.8/dist-packages (from earthpy) (1.3.4)\n",
            "Requirement already satisfied: scikit-image in /usr/local/lib/python3.8/dist-packages (from earthpy) (0.18.3)\n",
            "Requirement already satisfied: numpy>=1.14.0 in /usr/local/lib/python3.8/dist-packages (from earthpy) (1.21.6)\n",
            "Requirement already satisfied: matplotlib>=2.0.0 in /usr/local/lib/python3.8/dist-packages (from earthpy) (3.2.2)\n",
            "Requirement already satisfied: requests in /usr/local/lib/python3.8/dist-packages (from earthpy) (2.23.0)\n",
            "Requirement already satisfied: pyparsing!=2.0.4,!=2.1.2,!=2.1.6,>=2.0.1 in /usr/local/lib/python3.8/dist-packages (from matplotlib>=2.0.0->earthpy) (3.0.9)\n",
            "Requirement already satisfied: python-dateutil>=2.1 in /usr/local/lib/python3.8/dist-packages (from matplotlib>=2.0.0->earthpy) (2.8.2)\n",
            "Requirement already satisfied: cycler>=0.10 in /usr/local/lib/python3.8/dist-packages (from matplotlib>=2.0.0->earthpy) (0.11.0)\n",
            "Requirement already satisfied: kiwisolver>=1.0.1 in /usr/local/lib/python3.8/dist-packages (from matplotlib>=2.0.0->earthpy) (1.4.4)\n",
            "Requirement already satisfied: six>=1.5 in /usr/local/lib/python3.8/dist-packages (from python-dateutil>=2.1->matplotlib>=2.0.0->earthpy) (1.15.0)\n",
            "Requirement already satisfied: pandas>=1.0.0 in /usr/local/lib/python3.8/dist-packages (from geopandas->earthpy) (1.3.5)\n",
            "Requirement already satisfied: packaging in /usr/local/lib/python3.8/dist-packages (from geopandas->earthpy) (21.3)\n",
            "Requirement already satisfied: pyproj>=2.6.1.post1 in /usr/local/lib/python3.8/dist-packages (from geopandas->earthpy) (3.4.1)\n",
            "Requirement already satisfied: shapely>=1.7 in /usr/local/lib/python3.8/dist-packages (from geopandas->earthpy) (1.8.5.post1)\n",
            "Requirement already satisfied: fiona>=1.8 in /usr/local/lib/python3.8/dist-packages (from geopandas->earthpy) (1.8.22)\n",
            "Requirement already satisfied: click>=4.0 in /usr/local/lib/python3.8/dist-packages (from fiona>=1.8->geopandas->earthpy) (5.1)\n",
            "Requirement already satisfied: setuptools in /usr/local/lib/python3.8/dist-packages (from fiona>=1.8->geopandas->earthpy) (57.4.0)\n",
            "Requirement already satisfied: munch in /usr/local/lib/python3.8/dist-packages (from fiona>=1.8->geopandas->earthpy) (2.5.0)\n",
            "Requirement already satisfied: certifi in /usr/local/lib/python3.8/dist-packages (from fiona>=1.8->geopandas->earthpy) (2022.9.24)\n",
            "Requirement already satisfied: click-plugins>=1.0 in /usr/local/lib/python3.8/dist-packages (from fiona>=1.8->geopandas->earthpy) (1.1.1)\n",
            "Requirement already satisfied: cligj>=0.5 in /usr/local/lib/python3.8/dist-packages (from fiona>=1.8->geopandas->earthpy) (0.7.2)\n",
            "Requirement already satisfied: attrs>=17 in /usr/local/lib/python3.8/dist-packages (from fiona>=1.8->geopandas->earthpy) (22.1.0)\n",
            "Requirement already satisfied: pytz>=2017.3 in /usr/local/lib/python3.8/dist-packages (from pandas>=1.0.0->geopandas->earthpy) (2022.6)\n",
            "Requirement already satisfied: affine in /usr/local/lib/python3.8/dist-packages (from rasterio->earthpy) (2.3.1)\n",
            "Requirement already satisfied: snuggs>=1.4.1 in /usr/local/lib/python3.8/dist-packages (from rasterio->earthpy) (1.4.7)\n",
            "Requirement already satisfied: urllib3!=1.25.0,!=1.25.1,<1.26,>=1.21.1 in /usr/local/lib/python3.8/dist-packages (from requests->earthpy) (1.24.3)\n",
            "Requirement already satisfied: chardet<4,>=3.0.2 in /usr/local/lib/python3.8/dist-packages (from requests->earthpy) (3.0.4)\n",
            "Requirement already satisfied: idna<3,>=2.5 in /usr/local/lib/python3.8/dist-packages (from requests->earthpy) (2.10)\n",
            "Requirement already satisfied: imageio>=2.3.0 in /usr/local/lib/python3.8/dist-packages (from scikit-image->earthpy) (2.9.0)\n",
            "Requirement already satisfied: scipy>=1.0.1 in /usr/local/lib/python3.8/dist-packages (from scikit-image->earthpy) (1.7.3)\n",
            "Requirement already satisfied: tifffile>=2019.7.26 in /usr/local/lib/python3.8/dist-packages (from scikit-image->earthpy) (2022.10.10)\n",
            "Requirement already satisfied: PyWavelets>=1.1.1 in /usr/local/lib/python3.8/dist-packages (from scikit-image->earthpy) (1.4.1)\n",
            "Requirement already satisfied: networkx>=2.0 in /usr/local/lib/python3.8/dist-packages (from scikit-image->earthpy) (2.8.8)\n",
            "Requirement already satisfied: pillow!=7.1.0,!=7.1.1,>=4.3.0 in /usr/local/lib/python3.8/dist-packages (from scikit-image->earthpy) (7.1.2)\n",
            "Looking in indexes: https://pypi.org/simple, https://us-python.pkg.dev/colab-wheels/public/simple/\n",
            "Requirement already satisfied: rioxarray in /usr/local/lib/python3.8/dist-packages (0.13.2)\n",
            "Requirement already satisfied: pyproj>=2.2 in /usr/local/lib/python3.8/dist-packages (from rioxarray) (3.4.1)\n",
            "Requirement already satisfied: xarray>=0.17 in /usr/local/lib/python3.8/dist-packages (from rioxarray) (0.20.2)\n",
            "Requirement already satisfied: rasterio>=1.1.1 in /usr/local/lib/python3.8/dist-packages (from rioxarray) (1.3.4)\n",
            "Requirement already satisfied: packaging in /usr/local/lib/python3.8/dist-packages (from rioxarray) (21.3)\n",
            "Requirement already satisfied: certifi in /usr/local/lib/python3.8/dist-packages (from pyproj>=2.2->rioxarray) (2022.9.24)\n",
            "Requirement already satisfied: setuptools in /usr/local/lib/python3.8/dist-packages (from rasterio>=1.1.1->rioxarray) (57.4.0)\n",
            "Requirement already satisfied: attrs in /usr/local/lib/python3.8/dist-packages (from rasterio>=1.1.1->rioxarray) (22.1.0)\n",
            "Requirement already satisfied: snuggs>=1.4.1 in /usr/local/lib/python3.8/dist-packages (from rasterio>=1.1.1->rioxarray) (1.4.7)\n",
            "Requirement already satisfied: click-plugins in /usr/local/lib/python3.8/dist-packages (from rasterio>=1.1.1->rioxarray) (1.1.1)\n",
            "Requirement already satisfied: click>=4.0 in /usr/local/lib/python3.8/dist-packages (from rasterio>=1.1.1->rioxarray) (5.1)\n",
            "Requirement already satisfied: numpy>=1.18 in /usr/local/lib/python3.8/dist-packages (from rasterio>=1.1.1->rioxarray) (1.21.6)\n",
            "Requirement already satisfied: cligj>=0.5 in /usr/local/lib/python3.8/dist-packages (from rasterio>=1.1.1->rioxarray) (0.7.2)\n",
            "Requirement already satisfied: affine in /usr/local/lib/python3.8/dist-packages (from rasterio>=1.1.1->rioxarray) (2.3.1)\n",
            "Requirement already satisfied: pyparsing>=2.1.6 in /usr/local/lib/python3.8/dist-packages (from snuggs>=1.4.1->rasterio>=1.1.1->rioxarray) (3.0.9)\n",
            "Requirement already satisfied: pandas>=1.1 in /usr/local/lib/python3.8/dist-packages (from xarray>=0.17->rioxarray) (1.3.5)\n",
            "Requirement already satisfied: python-dateutil>=2.7.3 in /usr/local/lib/python3.8/dist-packages (from pandas>=1.1->xarray>=0.17->rioxarray) (2.8.2)\n",
            "Requirement already satisfied: pytz>=2017.3 in /usr/local/lib/python3.8/dist-packages (from pandas>=1.1->xarray>=0.17->rioxarray) (2022.6)\n",
            "Requirement already satisfied: six>=1.5 in /usr/local/lib/python3.8/dist-packages (from python-dateutil>=2.7.3->pandas>=1.1->xarray>=0.17->rioxarray) (1.15.0)\n",
            "Looking in indexes: https://pypi.org/simple, https://us-python.pkg.dev/colab-wheels/public/simple/\n",
            "Requirement already satisfied: rasterstats in /usr/local/lib/python3.8/dist-packages (0.17.0)\n",
            "Requirement already satisfied: numpy>=1.9 in /usr/local/lib/python3.8/dist-packages (from rasterstats) (1.21.6)\n",
            "Requirement already satisfied: shapely in /usr/local/lib/python3.8/dist-packages (from rasterstats) (1.8.5.post1)\n",
            "Requirement already satisfied: fiona in /usr/local/lib/python3.8/dist-packages (from rasterstats) (1.8.22)\n",
            "Requirement already satisfied: rasterio>=1.0 in /usr/local/lib/python3.8/dist-packages (from rasterstats) (1.3.4)\n",
            "Requirement already satisfied: affine<3.0 in /usr/local/lib/python3.8/dist-packages (from rasterstats) (2.3.1)\n",
            "Requirement already satisfied: simplejson in /usr/local/lib/python3.8/dist-packages (from rasterstats) (3.18.0)\n",
            "Requirement already satisfied: cligj>=0.4 in /usr/local/lib/python3.8/dist-packages (from rasterstats) (0.7.2)\n",
            "Requirement already satisfied: click>=4.0 in /usr/local/lib/python3.8/dist-packages (from cligj>=0.4->rasterstats) (5.1)\n",
            "Requirement already satisfied: attrs in /usr/local/lib/python3.8/dist-packages (from rasterio>=1.0->rasterstats) (22.1.0)\n",
            "Requirement already satisfied: certifi in /usr/local/lib/python3.8/dist-packages (from rasterio>=1.0->rasterstats) (2022.9.24)\n",
            "Requirement already satisfied: setuptools in /usr/local/lib/python3.8/dist-packages (from rasterio>=1.0->rasterstats) (57.4.0)\n",
            "Requirement already satisfied: click-plugins in /usr/local/lib/python3.8/dist-packages (from rasterio>=1.0->rasterstats) (1.1.1)\n",
            "Requirement already satisfied: snuggs>=1.4.1 in /usr/local/lib/python3.8/dist-packages (from rasterio>=1.0->rasterstats) (1.4.7)\n",
            "Requirement already satisfied: pyparsing>=2.1.6 in /usr/local/lib/python3.8/dist-packages (from snuggs>=1.4.1->rasterio>=1.0->rasterstats) (3.0.9)\n",
            "Requirement already satisfied: six>=1.7 in /usr/local/lib/python3.8/dist-packages (from fiona->rasterstats) (1.15.0)\n",
            "Requirement already satisfied: munch in /usr/local/lib/python3.8/dist-packages (from fiona->rasterstats) (2.5.0)\n",
            "Looking in indexes: https://pypi.org/simple, https://us-python.pkg.dev/colab-wheels/public/simple/\n",
            "Requirement already satisfied: climata in /usr/local/lib/python3.8/dist-packages (0.5.0)\n",
            "Requirement already satisfied: suds-jurko in /usr/local/lib/python3.8/dist-packages (from climata) (0.6)\n",
            "Requirement already satisfied: wq.io>=0.7.0 in /usr/local/lib/python3.8/dist-packages (from climata) (1.1.0)\n",
            "Requirement already satisfied: owslib>=0.9 in /usr/local/lib/python3.8/dist-packages (from climata) (0.27.2)\n",
            "Requirement already satisfied: pytz in /usr/local/lib/python3.8/dist-packages (from owslib>=0.9->climata) (2022.6)\n",
            "Requirement already satisfied: requests>=1.0 in /usr/local/lib/python3.8/dist-packages (from owslib>=0.9->climata) (2.23.0)\n",
            "Requirement already satisfied: pyyaml in /usr/local/lib/python3.8/dist-packages (from owslib>=0.9->climata) (6.0)\n",
            "Requirement already satisfied: python-dateutil>=1.5 in /usr/local/lib/python3.8/dist-packages (from owslib>=0.9->climata) (2.8.2)\n",
            "Requirement already satisfied: six>=1.5 in /usr/local/lib/python3.8/dist-packages (from python-dateutil>=1.5->owslib>=0.9->climata) (1.15.0)\n",
            "Requirement already satisfied: chardet<4,>=3.0.2 in /usr/local/lib/python3.8/dist-packages (from requests>=1.0->owslib>=0.9->climata) (3.0.4)\n",
            "Requirement already satisfied: idna<3,>=2.5 in /usr/local/lib/python3.8/dist-packages (from requests>=1.0->owslib>=0.9->climata) (2.10)\n",
            "Requirement already satisfied: certifi>=2017.4.17 in /usr/local/lib/python3.8/dist-packages (from requests>=1.0->owslib>=0.9->climata) (2022.9.24)\n",
            "Requirement already satisfied: urllib3!=1.25.0,!=1.25.1,<1.26,>=1.21.1 in /usr/local/lib/python3.8/dist-packages (from requests>=1.0->owslib>=0.9->climata) (1.24.3)\n",
            "Requirement already satisfied: xlrd in /usr/local/lib/python3.8/dist-packages (from wq.io>=0.7.0->climata) (1.2.0)\n",
            "Requirement already satisfied: wq.core in /usr/local/lib/python3.8/dist-packages (from wq.io>=0.7.0->climata) (1.2.0)\n",
            "Requirement already satisfied: click<6 in /usr/local/lib/python3.8/dist-packages (from wq.core->wq.io>=0.7.0->climata) (5.1)\n"
          ]
        }
      ],
      "source": [
        "!pip install geopandas\n",
        "!pip install libpysal\n",
        "!pip install rasterio\n",
        "!pip install earthpy\n",
        "!pip install rioxarray\n",
        "!pip install rasterstats\n",
        "!pip install climata"
      ]
    },
    {
      "cell_type": "code",
      "source": [
        "import numpy as np\n",
        "import numpy.ma as ma\n",
        "import geopandas as gpd\n",
        "import pandas as pd\n",
        "from pandas.plotting import register_matplotlib_converters\n",
        "from climata.usgs import DailyValueIO, InstantValueIO\n",
        "\n",
        "import matplotlib\n",
        "import matplotlib.pyplot as plt\n",
        "import seaborn as sns\n",
        "import rasterio as rio\n",
        "from rasterio.plot import plotting_extent\n",
        "import earthpy as et\n",
        "import earthpy.plot as ep\n",
        "import os\n",
        "import rioxarray as rxr"
      ],
      "metadata": {
        "id": "tE-td2z2_wRt"
      },
      "execution_count": 14,
      "outputs": []
    },
    {
      "cell_type": "code",
      "source": [
        "register_matplotlib_converters()\n",
        "plt.style.use('ggplot')\n",
        "plt.rcParams['figure.figsize'] = (20.0, 10.0)"
      ],
      "metadata": {
        "id": "IXZ713a2Bpg0"
      },
      "execution_count": 15,
      "outputs": []
    },
    {
      "cell_type": "code",
      "source": [
        "first_dates_sentinel_nt =[\"2016-12-07\", \"2016-12-19\", \"2016-12-31\", \"2017-01-12\", \"2017-01-24\", \"2017-02-05\", \"2017-02-17\", \"2017-03-13\", \"2017-12-02\", \"2017-12-14\", \"2017-12-26\", \"2018-01-07\", \"2018-01-19\", \"2018-01-31\", \"2018-02-12\", \"2018-03-08\", \"2018-12-21\", \"2019-01-02\", \"2019-01-14\", \"2019-01-26\", \"2019-02-07\", \"2019-02-19\", \"2019-03-03\", \"2019-03-15\", \"2019-12-04\", \"2019-12-16\", \"2019-12-28\", \"2020-01-09\", \"2020-01-21\", \"2020-02-02\", \"2020-02-14\", \"2020-02-26\", \"2020-03-09\"]\n",
        "second_dates_sentinel_nt = [\"2016-12-19\", \"2016-12-31\", \"2017-01-12\", \"2017-01-24\", \"2017-02-05\", \"2017-02-17\", \"2017-03-13\", \"2017-03-25\", \"2017-12-14\", \"2017-12-26\", \"2018-01-07\", \"2018-01-19\", \"2018-01-31\", \"2018-02-12\", \"2018-03-08\", \"2018-03-20\", \"2019-01-02\", \"2019-01-14\", \"2019-01-26\", \"2019-02-07\", \"2019-02-19\", \"2019-03-03\", \"2019-03-15\", \"2019-03-27\", \"2019-12-16\", \"2019-12-28\", \"2020-01-09\", \"2020-01-21\", \"2020-02-02\", \"2020-02-14\", \"2020-02-26\", \"2020-03-09\", \"2020-03-21\"]"
      ],
      "metadata": {
        "id": "0RDfsC3F_zFO"
      },
      "execution_count": 16,
      "outputs": []
    },
    {
      "cell_type": "code",
      "source": [
        "sentinel_data_df = pd.DataFrame({'first_datetime':first_dates_sentinel_nt,'second_datetime':second_dates_sentinel_nt})\n",
        "print(sentinel_data_df)\n",
        "type(sentinel_data_df) "
      ],
      "metadata": {
        "colab": {
          "base_uri": "https://localhost:8080/"
        },
        "id": "GoRNJ93Q_-kz",
        "outputId": "8006dde9-c6f4-42a9-b630-039a36888c67"
      },
      "execution_count": 17,
      "outputs": [
        {
          "output_type": "stream",
          "name": "stdout",
          "text": [
            "   first_datetime second_datetime\n",
            "0      2016-12-07      2016-12-19\n",
            "1      2016-12-19      2016-12-31\n",
            "2      2016-12-31      2017-01-12\n",
            "3      2017-01-12      2017-01-24\n",
            "4      2017-01-24      2017-02-05\n",
            "5      2017-02-05      2017-02-17\n",
            "6      2017-02-17      2017-03-13\n",
            "7      2017-03-13      2017-03-25\n",
            "8      2017-12-02      2017-12-14\n",
            "9      2017-12-14      2017-12-26\n",
            "10     2017-12-26      2018-01-07\n",
            "11     2018-01-07      2018-01-19\n",
            "12     2018-01-19      2018-01-31\n",
            "13     2018-01-31      2018-02-12\n",
            "14     2018-02-12      2018-03-08\n",
            "15     2018-03-08      2018-03-20\n",
            "16     2018-12-21      2019-01-02\n",
            "17     2019-01-02      2019-01-14\n",
            "18     2019-01-14      2019-01-26\n",
            "19     2019-01-26      2019-02-07\n",
            "20     2019-02-07      2019-02-19\n",
            "21     2019-02-19      2019-03-03\n",
            "22     2019-03-03      2019-03-15\n",
            "23     2019-03-15      2019-03-27\n",
            "24     2019-12-04      2019-12-16\n",
            "25     2019-12-16      2019-12-28\n",
            "26     2019-12-28      2020-01-09\n",
            "27     2020-01-09      2020-01-21\n",
            "28     2020-01-21      2020-02-02\n",
            "29     2020-02-02      2020-02-14\n",
            "30     2020-02-14      2020-02-26\n",
            "31     2020-02-26      2020-03-09\n",
            "32     2020-03-09      2020-03-21\n"
          ]
        },
        {
          "output_type": "execute_result",
          "data": {
            "text/plain": [
              "pandas.core.frame.DataFrame"
            ]
          },
          "metadata": {},
          "execution_count": 17
        }
      ]
    },
    {
      "cell_type": "code",
      "source": [
        "# set parameters\n",
        "nyears = 1\n",
        "ndays = 365 * nyears\n",
        "huc = \"02020004\"\n",
        "station_ids = [\"01354330\", \"01355475\", \"01356000\"]\n",
        "param_id = \"00065\"\n",
        "\n",
        "data = DailyValueIO(\n",
        "    start_date=\"2019-01-26\",\n",
        "    end_date=\"2019-02-07\",\n",
        "    station= station_ids,\n",
        "    param_id = \"00065\"\n",
        ")\n",
        "\n",
        "date = []\n",
        "value = []\n",
        "\n",
        "for series in data:\n",
        "    for row in series.data:\n",
        "        date.append(row[0])\n",
        "        value.append(row[1])"
      ],
      "metadata": {
        "id": "L8kCWZZn5sfu"
      },
      "execution_count": 23,
      "outputs": []
    },
    {
      "cell_type": "code",
      "source": [
        "site_names = [[series.site_name] * len(series.data) for series in data]\n",
        "\n",
        "# unroll the list of lists\n",
        "flat_site_names = [item for sublist in site_names for item in sublist]"
      ],
      "metadata": {
        "id": "s-Jmc2ym6AbT"
      },
      "execution_count": 24,
      "outputs": []
    },
    {
      "cell_type": "code",
      "source": [
        "print(site_names)"
      ],
      "metadata": {
        "colab": {
          "base_uri": "https://localhost:8080/"
        },
        "id": "liGx7COE6Oh_",
        "outputId": "2e1124b1-c52e-4e5b-cccb-fbbf211d442f"
      },
      "execution_count": 25,
      "outputs": [
        {
          "output_type": "stream",
          "name": "stdout",
          "text": [
            "[['MOHAWK RIVER AT LOCK 8 NEAR SCHENECTADY NY', 'MOHAWK RIVER AT LOCK 8 NEAR SCHENECTADY NY', 'MOHAWK RIVER AT LOCK 8 NEAR SCHENECTADY NY', 'MOHAWK RIVER AT LOCK 8 NEAR SCHENECTADY NY', 'MOHAWK RIVER AT LOCK 8 NEAR SCHENECTADY NY', 'MOHAWK RIVER AT LOCK 8 NEAR SCHENECTADY NY', 'MOHAWK RIVER AT LOCK 8 NEAR SCHENECTADY NY', 'MOHAWK RIVER AT LOCK 8 NEAR SCHENECTADY NY', 'MOHAWK RIVER AT LOCK 8 NEAR SCHENECTADY NY', 'MOHAWK RIVER AT LOCK 8 NEAR SCHENECTADY NY', 'MOHAWK RIVER AT LOCK 8 NEAR SCHENECTADY NY', 'MOHAWK RIVER AT LOCK 8 NEAR SCHENECTADY NY', 'MOHAWK RIVER AT LOCK 8 NEAR SCHENECTADY NY'], ['MOHAWK RIVER AT REXFORD NY', 'MOHAWK RIVER AT REXFORD NY', 'MOHAWK RIVER AT REXFORD NY', 'MOHAWK RIVER AT REXFORD NY', 'MOHAWK RIVER AT REXFORD NY', 'MOHAWK RIVER AT REXFORD NY', 'MOHAWK RIVER AT REXFORD NY', 'MOHAWK RIVER AT REXFORD NY', 'MOHAWK RIVER AT REXFORD NY', 'MOHAWK RIVER AT REXFORD NY', 'MOHAWK RIVER AT REXFORD NY', 'MOHAWK RIVER AT REXFORD NY', 'MOHAWK RIVER AT REXFORD NY'], [], ['MOHAWK RIVER AT VISCHER FERRY DAM NY', 'MOHAWK RIVER AT VISCHER FERRY DAM NY', 'MOHAWK RIVER AT VISCHER FERRY DAM NY', 'MOHAWK RIVER AT VISCHER FERRY DAM NY', 'MOHAWK RIVER AT VISCHER FERRY DAM NY', 'MOHAWK RIVER AT VISCHER FERRY DAM NY', 'MOHAWK RIVER AT VISCHER FERRY DAM NY', 'MOHAWK RIVER AT VISCHER FERRY DAM NY', 'MOHAWK RIVER AT VISCHER FERRY DAM NY', 'MOHAWK RIVER AT VISCHER FERRY DAM NY', 'MOHAWK RIVER AT VISCHER FERRY DAM NY', 'MOHAWK RIVER AT VISCHER FERRY DAM NY', 'MOHAWK RIVER AT VISCHER FERRY DAM NY']]\n"
          ]
        }
      ]
    },
    {
      "cell_type": "code",
      "source": [
        "# bundle the data into a data frame\n",
        "df = pd.DataFrame({'site': flat_site_names, \n",
        "                   'date': date, \n",
        "                   'value': value})\n",
        "\n",
        "# remove missing values\n",
        "df = df[df['value'] != -999999.0]"
      ],
      "metadata": {
        "id": "AIFuk5Oa6D1m"
      },
      "execution_count": 26,
      "outputs": []
    },
    {
      "cell_type": "code",
      "source": [
        "print(df)"
      ],
      "metadata": {
        "colab": {
          "base_uri": "https://localhost:8080/"
        },
        "id": "wG2aY_8J-TrJ",
        "outputId": "fa3857f0-3379-467c-f78f-62b863e29646"
      },
      "execution_count": 27,
      "outputs": [
        {
          "output_type": "stream",
          "name": "stdout",
          "text": [
            "                                          site       date  value\n",
            "0   MOHAWK RIVER AT LOCK 8 NEAR SCHENECTADY NY 2019-01-26  23.13\n",
            "1   MOHAWK RIVER AT LOCK 8 NEAR SCHENECTADY NY 2019-01-27  20.41\n",
            "2   MOHAWK RIVER AT LOCK 8 NEAR SCHENECTADY NY 2019-01-28  19.04\n",
            "3   MOHAWK RIVER AT LOCK 8 NEAR SCHENECTADY NY 2019-01-29  17.72\n",
            "4   MOHAWK RIVER AT LOCK 8 NEAR SCHENECTADY NY 2019-01-30  17.07\n",
            "5   MOHAWK RIVER AT LOCK 8 NEAR SCHENECTADY NY 2019-01-31  16.50\n",
            "6   MOHAWK RIVER AT LOCK 8 NEAR SCHENECTADY NY 2019-02-01  15.89\n",
            "7   MOHAWK RIVER AT LOCK 8 NEAR SCHENECTADY NY 2019-02-02  16.42\n",
            "8   MOHAWK RIVER AT LOCK 8 NEAR SCHENECTADY NY 2019-02-03  16.69\n",
            "9   MOHAWK RIVER AT LOCK 8 NEAR SCHENECTADY NY 2019-02-04  17.09\n",
            "10  MOHAWK RIVER AT LOCK 8 NEAR SCHENECTADY NY 2019-02-05  18.39\n",
            "11  MOHAWK RIVER AT LOCK 8 NEAR SCHENECTADY NY 2019-02-06  21.29\n",
            "12  MOHAWK RIVER AT LOCK 8 NEAR SCHENECTADY NY 2019-02-07  21.58\n",
            "13                  MOHAWK RIVER AT REXFORD NY 2019-01-26  16.19\n",
            "14                  MOHAWK RIVER AT REXFORD NY 2019-01-27  13.72\n",
            "15                  MOHAWK RIVER AT REXFORD NY 2019-01-28  12.68\n",
            "16                  MOHAWK RIVER AT REXFORD NY 2019-01-29  11.75\n",
            "17                  MOHAWK RIVER AT REXFORD NY 2019-01-30  11.19\n",
            "18                  MOHAWK RIVER AT REXFORD NY 2019-01-31  10.80\n",
            "19                  MOHAWK RIVER AT REXFORD NY 2019-02-01  10.50\n",
            "20                  MOHAWK RIVER AT REXFORD NY 2019-02-02  10.45\n",
            "21                  MOHAWK RIVER AT REXFORD NY 2019-02-03  11.17\n",
            "22                  MOHAWK RIVER AT REXFORD NY 2019-02-04  11.15\n",
            "23                  MOHAWK RIVER AT REXFORD NY 2019-02-05  11.92\n",
            "24                  MOHAWK RIVER AT REXFORD NY 2019-02-06  14.06\n",
            "25                  MOHAWK RIVER AT REXFORD NY 2019-02-07  14.32\n",
            "26        MOHAWK RIVER AT VISCHER FERRY DAM NY 2019-01-26  11.55\n",
            "27        MOHAWK RIVER AT VISCHER FERRY DAM NY 2019-01-27  10.90\n",
            "28        MOHAWK RIVER AT VISCHER FERRY DAM NY 2019-01-28  10.57\n",
            "29        MOHAWK RIVER AT VISCHER FERRY DAM NY 2019-01-29  10.28\n",
            "30        MOHAWK RIVER AT VISCHER FERRY DAM NY 2019-01-30  10.01\n",
            "31        MOHAWK RIVER AT VISCHER FERRY DAM NY 2019-01-31   9.78\n",
            "32        MOHAWK RIVER AT VISCHER FERRY DAM NY 2019-02-01   9.65\n",
            "33        MOHAWK RIVER AT VISCHER FERRY DAM NY 2019-02-02  10.60\n",
            "34        MOHAWK RIVER AT VISCHER FERRY DAM NY 2019-02-03  10.51\n",
            "35        MOHAWK RIVER AT VISCHER FERRY DAM NY 2019-02-04  10.12\n",
            "36        MOHAWK RIVER AT VISCHER FERRY DAM NY 2019-02-05  10.57\n",
            "37        MOHAWK RIVER AT VISCHER FERRY DAM NY 2019-02-06  11.35\n",
            "38        MOHAWK RIVER AT VISCHER FERRY DAM NY 2019-02-07  11.40\n"
          ]
        }
      ]
    },
    {
      "cell_type": "code",
      "source": [
        "#climata DailyValueIO returns only discharge (ft3) for freeman's bridge gage (01354500) - manually input daily average stage height (ft) at this gage from 1.26-2.07\n",
        "freemans_DVIO = [16.5993403, 13.9783681, 12.9084722, 12.1203472, 11.5525, 11.0840625, 10.648438, 10.578993, 11.398333, 11.446632, 12.361597, 14.902951, 15.245719]\n",
        "print(freemans_DVIO)"
      ],
      "metadata": {
        "colab": {
          "base_uri": "https://localhost:8080/"
        },
        "id": "_C_jBfnbxNGn",
        "outputId": "2169fb09-8cc9-4510-b755-8e8b308e83da"
      },
      "execution_count": 29,
      "outputs": [
        {
          "output_type": "stream",
          "name": "stdout",
          "text": [
            "[16.5993403, 13.9783681, 12.9084722, 12.1203472, 11.5525, 11.0840625, 10.648438, 10.578993, 11.398333, 11.446632, 12.361597, 14.902951, 15.245719]\n"
          ]
        }
      ]
    },
    {
      "cell_type": "code",
      "source": [
        "lock8_vd_0207 = value[12] - value[0]\n",
        "print(lock8_vd_0207)"
      ],
      "metadata": {
        "colab": {
          "base_uri": "https://localhost:8080/"
        },
        "id": "N4tXkFqUGrEJ",
        "outputId": "ea12e9c9-6c24-4f58-c21d-b13cfb3d5d8c"
      },
      "execution_count": 21,
      "outputs": [
        {
          "output_type": "stream",
          "name": "stdout",
          "text": [
            "-1.5500000000000007\n"
          ]
        }
      ]
    },
    {
      "cell_type": "code",
      "source": [
        "freemans_vd_0207 = freemans_DVIO[12] - freemans_DVIO[0]\n",
        "print(freemans_vd_0207)"
      ],
      "metadata": {
        "colab": {
          "base_uri": "https://localhost:8080/"
        },
        "id": "MfkJyhiyHBdf",
        "outputId": "59f0354e-b9c7-43c4-9616-2cc78842f756"
      },
      "execution_count": 30,
      "outputs": [
        {
          "output_type": "stream",
          "name": "stdout",
          "text": [
            "-1.3536213000000021\n"
          ]
        }
      ]
    },
    {
      "cell_type": "code",
      "source": [
        "rexford_vd_0207 = value[25] - value[13]\n",
        "print(rexford_vd_0207)"
      ],
      "metadata": {
        "colab": {
          "base_uri": "https://localhost:8080/"
        },
        "id": "Smiui_l-HdlW",
        "outputId": "edd62cf2-c718-46a0-bc21-1ea244160552"
      },
      "execution_count": 34,
      "outputs": [
        {
          "output_type": "stream",
          "name": "stdout",
          "text": [
            "-1.870000000000001\n"
          ]
        }
      ]
    },
    {
      "cell_type": "code",
      "source": [
        "vischer_vd_0207 = value[38] - value[26]\n",
        "print(vischer_vd_0207)"
      ],
      "metadata": {
        "colab": {
          "base_uri": "https://localhost:8080/"
        },
        "id": "3n_qJjCLHp5R",
        "outputId": "0ff36107-c781-4456-ac45-04f7a0d8b2e3"
      },
      "execution_count": 35,
      "outputs": [
        {
          "output_type": "stream",
          "name": "stdout",
          "text": [
            "-0.15000000000000036\n"
          ]
        }
      ]
    },
    {
      "cell_type": "code",
      "source": [
        "lock8_0207 = [-1.5500000000000007]\n",
        "freemans_0207 = [-1.3536213000000021]\n",
        "rexford_0207 = [-1.870000000000001]\n",
        "vischer_0207 = [-0.15000000000000036]"
      ],
      "metadata": {
        "id": "yeBYCLXZL_Tk"
      },
      "execution_count": 31,
      "outputs": []
    },
    {
      "cell_type": "code",
      "source": [
        "# visualize flow time series, coloring by site\n",
        "groups = df.groupby('site')\n",
        "fig, ax = plt.subplots()\n",
        "for name, group in groups:\n",
        "    ax.plot(group.date, group.value, marker='o', linestyle='-', ms=2, label=name)\n",
        "ax.legend(bbox_to_anchor=(1.05, 1), loc=2, borderaxespad=0.)\n",
        "plt.xlabel('Date')\n",
        "plt.ylabel('Streamflow')\n",
        "plt.xticks(rotation='vertical')\n",
        "plt.show()"
      ],
      "metadata": {
        "colab": {
          "base_uri": "https://localhost:8080/",
          "height": 604
        },
        "id": "4JZcclRc6G_b",
        "outputId": "708d5622-f4da-48b5-9092-e17f3b7a6865"
      },
      "execution_count": 37,
      "outputs": [
        {
          "output_type": "display_data",
          "data": {
            "text/plain": [
              "<Figure size 1440x720 with 1 Axes>"
            ],
            "image/png": "[encoded data removed]"
          },
          "metadata": {}
        }
      ]
    },
    {
      "cell_type": "code",
      "source": [],
      "metadata": {
        "id": "PPlQKFEpA0I3"
      },
      "execution_count": null,
      "outputs": []
    }
  ]
}