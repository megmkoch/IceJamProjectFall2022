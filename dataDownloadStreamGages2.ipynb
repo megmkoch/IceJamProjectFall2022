{
  "nbformat": 4,
  "nbformat_minor": 0,
  "metadata": {
    "colab": {
      "provenance": [],
      "authorship_tag": "ABX9TyONnpcn2qc+/7Waen3cG6N3",
      "include_colab_link": true
    },
    "kernelspec": {
      "name": "python3",
      "display_name": "Python 3"
    },
    "language_info": {
      "name": "python"
    }
  },
  "cells": [
    {
      "cell_type": "markdown",
      "metadata": {
        "id": "view-in-github",
        "colab_type": "text"
      },
      "source": [
        "<a href=\"https://colab.research.google.com/github/megmkoch/IceJamProjectFall2022/blob/main/dataDownloadStreamGages2.ipynb\" target=\"_parent\"><img src=\"https://colab.research.google.com/assets/colab-badge.svg\" alt=\"Open In Colab\"/></a>"
      ]
    },
    {
      "cell_type": "code",
      "execution_count": 1,
      "metadata": {
        "colab": {
          "base_uri": "https://localhost:8080/"
        },
        "id": "P6qNlNFkJryj",
        "outputId": "21e7fc5f-5b17-4b54-a66b-da5ac52c07d8"
      },
      "outputs": [
        {
          "output_type": "stream",
          "name": "stdout",
          "text": [
            "Looking in indexes: https://pypi.org/simple, https://us-python.pkg.dev/colab-wheels/public/simple/\n",
            "Collecting geopandas\n",
            "  Downloading geopandas-0.12.2-py3-none-any.whl (1.1 MB)\n",
            "\u001b[K     |████████████████████████████████| 1.1 MB 4.8 MB/s \n",
            "\u001b[?25hRequirement already satisfied: shapely>=1.7 in /usr/local/lib/python3.8/dist-packages (from geopandas) (1.8.5.post1)\n",
            "Requirement already satisfied: pandas>=1.0.0 in /usr/local/lib/python3.8/dist-packages (from geopandas) (1.3.5)\n",
            "Collecting fiona>=1.8\n",
            "  Downloading Fiona-1.8.22-cp38-cp38-manylinux_2_17_x86_64.manylinux2014_x86_64.whl (16.6 MB)\n",
            "\u001b[K     |████████████████████████████████| 16.6 MB 108 kB/s \n",
            "\u001b[?25hRequirement already satisfied: packaging in /usr/local/lib/python3.8/dist-packages (from geopandas) (21.3)\n",
            "Collecting pyproj>=2.6.1.post1\n",
            "  Downloading pyproj-3.4.1-cp38-cp38-manylinux_2_17_x86_64.manylinux2014_x86_64.whl (7.8 MB)\n",
            "\u001b[K     |████████████████████████████████| 7.8 MB 51.8 MB/s \n",
            "\u001b[?25hCollecting munch\n",
            "  Downloading munch-2.5.0-py2.py3-none-any.whl (10 kB)\n",
            "Collecting click-plugins>=1.0\n",
            "  Downloading click_plugins-1.1.1-py2.py3-none-any.whl (7.5 kB)\n",
            "Requirement already satisfied: certifi in /usr/local/lib/python3.8/dist-packages (from fiona>=1.8->geopandas) (2022.9.24)\n",
            "Requirement already satisfied: setuptools in /usr/local/lib/python3.8/dist-packages (from fiona>=1.8->geopandas) (57.4.0)\n",
            "Collecting cligj>=0.5\n",
            "  Downloading cligj-0.7.2-py3-none-any.whl (7.1 kB)\n",
            "Requirement already satisfied: attrs>=17 in /usr/local/lib/python3.8/dist-packages (from fiona>=1.8->geopandas) (22.1.0)\n",
            "Requirement already satisfied: six>=1.7 in /usr/local/lib/python3.8/dist-packages (from fiona>=1.8->geopandas) (1.15.0)\n",
            "Requirement already satisfied: click>=4.0 in /usr/local/lib/python3.8/dist-packages (from fiona>=1.8->geopandas) (7.1.2)\n",
            "Requirement already satisfied: python-dateutil>=2.7.3 in /usr/local/lib/python3.8/dist-packages (from pandas>=1.0.0->geopandas) (2.8.2)\n",
            "Requirement already satisfied: pytz>=2017.3 in /usr/local/lib/python3.8/dist-packages (from pandas>=1.0.0->geopandas) (2022.6)\n",
            "Requirement already satisfied: numpy>=1.17.3 in /usr/local/lib/python3.8/dist-packages (from pandas>=1.0.0->geopandas) (1.21.6)\n",
            "Requirement already satisfied: pyparsing!=3.0.5,>=2.0.2 in /usr/local/lib/python3.8/dist-packages (from packaging->geopandas) (3.0.9)\n",
            "Installing collected packages: munch, cligj, click-plugins, pyproj, fiona, geopandas\n",
            "Successfully installed click-plugins-1.1.1 cligj-0.7.2 fiona-1.8.22 geopandas-0.12.2 munch-2.5.0 pyproj-3.4.1\n",
            "Looking in indexes: https://pypi.org/simple, https://us-python.pkg.dev/colab-wheels/public/simple/\n",
            "Collecting libpysal\n",
            "  Downloading libpysal-4.7.0-py3-none-any.whl (2.4 MB)\n",
            "\u001b[K     |████████████████████████████████| 2.4 MB 6.7 MB/s \n",
            "\u001b[?25hRequirement already satisfied: requests in /usr/local/lib/python3.8/dist-packages (from libpysal) (2.23.0)\n",
            "Requirement already satisfied: numpy>=1.3 in /usr/local/lib/python3.8/dist-packages (from libpysal) (1.21.6)\n",
            "Requirement already satisfied: pandas in /usr/local/lib/python3.8/dist-packages (from libpysal) (1.3.5)\n",
            "Requirement already satisfied: beautifulsoup4 in /usr/local/lib/python3.8/dist-packages (from libpysal) (4.6.3)\n",
            "Requirement already satisfied: platformdirs in /usr/local/lib/python3.8/dist-packages (from libpysal) (2.5.4)\n",
            "Requirement already satisfied: packaging in /usr/local/lib/python3.8/dist-packages (from libpysal) (21.3)\n",
            "Requirement already satisfied: scipy>=0.11 in /usr/local/lib/python3.8/dist-packages (from libpysal) (1.7.3)\n",
            "Requirement already satisfied: jinja2 in /usr/local/lib/python3.8/dist-packages (from libpysal) (2.11.3)\n",
            "Requirement already satisfied: MarkupSafe>=0.23 in /usr/local/lib/python3.8/dist-packages (from jinja2->libpysal) (2.0.1)\n",
            "Requirement already satisfied: pyparsing!=3.0.5,>=2.0.2 in /usr/local/lib/python3.8/dist-packages (from packaging->libpysal) (3.0.9)\n",
            "Requirement already satisfied: pytz>=2017.3 in /usr/local/lib/python3.8/dist-packages (from pandas->libpysal) (2022.6)\n",
            "Requirement already satisfied: python-dateutil>=2.7.3 in /usr/local/lib/python3.8/dist-packages (from pandas->libpysal) (2.8.2)\n",
            "Requirement already satisfied: six>=1.5 in /usr/local/lib/python3.8/dist-packages (from python-dateutil>=2.7.3->pandas->libpysal) (1.15.0)\n",
            "Requirement already satisfied: certifi>=2017.4.17 in /usr/local/lib/python3.8/dist-packages (from requests->libpysal) (2022.9.24)\n",
            "Requirement already satisfied: idna<3,>=2.5 in /usr/local/lib/python3.8/dist-packages (from requests->libpysal) (2.10)\n",
            "Requirement already satisfied: urllib3!=1.25.0,!=1.25.1,<1.26,>=1.21.1 in /usr/local/lib/python3.8/dist-packages (from requests->libpysal) (1.24.3)\n",
            "Requirement already satisfied: chardet<4,>=3.0.2 in /usr/local/lib/python3.8/dist-packages (from requests->libpysal) (3.0.4)\n",
            "Installing collected packages: libpysal\n",
            "Successfully installed libpysal-4.7.0\n",
            "Looking in indexes: https://pypi.org/simple, https://us-python.pkg.dev/colab-wheels/public/simple/\n",
            "Collecting rasterio\n",
            "  Downloading rasterio-1.3.4-cp38-cp38-manylinux_2_17_x86_64.manylinux2014_x86_64.whl (20.9 MB)\n",
            "\u001b[K     |████████████████████████████████| 20.9 MB 84.2 MB/s \n",
            "\u001b[?25hRequirement already satisfied: cligj>=0.5 in /usr/local/lib/python3.8/dist-packages (from rasterio) (0.7.2)\n",
            "Requirement already satisfied: numpy>=1.18 in /usr/local/lib/python3.8/dist-packages (from rasterio) (1.21.6)\n",
            "Requirement already satisfied: certifi in /usr/local/lib/python3.8/dist-packages (from rasterio) (2022.9.24)\n",
            "Collecting snuggs>=1.4.1\n",
            "  Downloading snuggs-1.4.7-py3-none-any.whl (5.4 kB)\n",
            "Requirement already satisfied: setuptools in /usr/local/lib/python3.8/dist-packages (from rasterio) (57.4.0)\n",
            "Requirement already satisfied: click>=4.0 in /usr/local/lib/python3.8/dist-packages (from rasterio) (7.1.2)\n",
            "Requirement already satisfied: attrs in /usr/local/lib/python3.8/dist-packages (from rasterio) (22.1.0)\n",
            "Requirement already satisfied: click-plugins in /usr/local/lib/python3.8/dist-packages (from rasterio) (1.1.1)\n",
            "Collecting affine\n",
            "  Downloading affine-2.3.1-py2.py3-none-any.whl (16 kB)\n",
            "Requirement already satisfied: pyparsing>=2.1.6 in /usr/local/lib/python3.8/dist-packages (from snuggs>=1.4.1->rasterio) (3.0.9)\n",
            "Installing collected packages: snuggs, affine, rasterio\n",
            "Successfully installed affine-2.3.1 rasterio-1.3.4 snuggs-1.4.7\n",
            "Looking in indexes: https://pypi.org/simple, https://us-python.pkg.dev/colab-wheels/public/simple/\n",
            "Collecting earthpy\n",
            "  Downloading earthpy-0.9.4-py3-none-any.whl (1.4 MB)\n",
            "\u001b[K     |████████████████████████████████| 1.4 MB 4.1 MB/s \n",
            "\u001b[?25hRequirement already satisfied: requests in /usr/local/lib/python3.8/dist-packages (from earthpy) (2.23.0)\n",
            "Requirement already satisfied: matplotlib>=2.0.0 in /usr/local/lib/python3.8/dist-packages (from earthpy) (3.2.2)\n",
            "Requirement already satisfied: geopandas in /usr/local/lib/python3.8/dist-packages (from earthpy) (0.12.2)\n",
            "Requirement already satisfied: rasterio in /usr/local/lib/python3.8/dist-packages (from earthpy) (1.3.4)\n",
            "Requirement already satisfied: scikit-image in /usr/local/lib/python3.8/dist-packages (from earthpy) (0.18.3)\n",
            "Requirement already satisfied: numpy>=1.14.0 in /usr/local/lib/python3.8/dist-packages (from earthpy) (1.21.6)\n",
            "Requirement already satisfied: cycler>=0.10 in /usr/local/lib/python3.8/dist-packages (from matplotlib>=2.0.0->earthpy) (0.11.0)\n",
            "Requirement already satisfied: python-dateutil>=2.1 in /usr/local/lib/python3.8/dist-packages (from matplotlib>=2.0.0->earthpy) (2.8.2)\n",
            "Requirement already satisfied: kiwisolver>=1.0.1 in /usr/local/lib/python3.8/dist-packages (from matplotlib>=2.0.0->earthpy) (1.4.4)\n",
            "Requirement already satisfied: pyparsing!=2.0.4,!=2.1.2,!=2.1.6,>=2.0.1 in /usr/local/lib/python3.8/dist-packages (from matplotlib>=2.0.0->earthpy) (3.0.9)\n",
            "Requirement already satisfied: six>=1.5 in /usr/local/lib/python3.8/dist-packages (from python-dateutil>=2.1->matplotlib>=2.0.0->earthpy) (1.15.0)\n",
            "Requirement already satisfied: pyproj>=2.6.1.post1 in /usr/local/lib/python3.8/dist-packages (from geopandas->earthpy) (3.4.1)\n",
            "Requirement already satisfied: shapely>=1.7 in /usr/local/lib/python3.8/dist-packages (from geopandas->earthpy) (1.8.5.post1)\n",
            "Requirement already satisfied: packaging in /usr/local/lib/python3.8/dist-packages (from geopandas->earthpy) (21.3)\n",
            "Requirement already satisfied: fiona>=1.8 in /usr/local/lib/python3.8/dist-packages (from geopandas->earthpy) (1.8.22)\n",
            "Requirement already satisfied: pandas>=1.0.0 in /usr/local/lib/python3.8/dist-packages (from geopandas->earthpy) (1.3.5)\n",
            "Requirement already satisfied: setuptools in /usr/local/lib/python3.8/dist-packages (from fiona>=1.8->geopandas->earthpy) (57.4.0)\n",
            "Requirement already satisfied: munch in /usr/local/lib/python3.8/dist-packages (from fiona>=1.8->geopandas->earthpy) (2.5.0)\n",
            "Requirement already satisfied: cligj>=0.5 in /usr/local/lib/python3.8/dist-packages (from fiona>=1.8->geopandas->earthpy) (0.7.2)\n",
            "Requirement already satisfied: certifi in /usr/local/lib/python3.8/dist-packages (from fiona>=1.8->geopandas->earthpy) (2022.9.24)\n",
            "Requirement already satisfied: attrs>=17 in /usr/local/lib/python3.8/dist-packages (from fiona>=1.8->geopandas->earthpy) (22.1.0)\n",
            "Requirement already satisfied: click-plugins>=1.0 in /usr/local/lib/python3.8/dist-packages (from fiona>=1.8->geopandas->earthpy) (1.1.1)\n",
            "Requirement already satisfied: click>=4.0 in /usr/local/lib/python3.8/dist-packages (from fiona>=1.8->geopandas->earthpy) (7.1.2)\n",
            "Requirement already satisfied: pytz>=2017.3 in /usr/local/lib/python3.8/dist-packages (from pandas>=1.0.0->geopandas->earthpy) (2022.6)\n",
            "Requirement already satisfied: affine in /usr/local/lib/python3.8/dist-packages (from rasterio->earthpy) (2.3.1)\n",
            "Requirement already satisfied: snuggs>=1.4.1 in /usr/local/lib/python3.8/dist-packages (from rasterio->earthpy) (1.4.7)\n",
            "Requirement already satisfied: chardet<4,>=3.0.2 in /usr/local/lib/python3.8/dist-packages (from requests->earthpy) (3.0.4)\n",
            "Requirement already satisfied: idna<3,>=2.5 in /usr/local/lib/python3.8/dist-packages (from requests->earthpy) (2.10)\n",
            "Requirement already satisfied: urllib3!=1.25.0,!=1.25.1,<1.26,>=1.21.1 in /usr/local/lib/python3.8/dist-packages (from requests->earthpy) (1.24.3)\n",
            "Requirement already satisfied: scipy>=1.0.1 in /usr/local/lib/python3.8/dist-packages (from scikit-image->earthpy) (1.7.3)\n",
            "Requirement already satisfied: PyWavelets>=1.1.1 in /usr/local/lib/python3.8/dist-packages (from scikit-image->earthpy) (1.4.1)\n",
            "Requirement already satisfied: tifffile>=2019.7.26 in /usr/local/lib/python3.8/dist-packages (from scikit-image->earthpy) (2022.10.10)\n",
            "Requirement already satisfied: pillow!=7.1.0,!=7.1.1,>=4.3.0 in /usr/local/lib/python3.8/dist-packages (from scikit-image->earthpy) (7.1.2)\n",
            "Requirement already satisfied: networkx>=2.0 in /usr/local/lib/python3.8/dist-packages (from scikit-image->earthpy) (2.8.8)\n",
            "Requirement already satisfied: imageio>=2.3.0 in /usr/local/lib/python3.8/dist-packages (from scikit-image->earthpy) (2.9.0)\n",
            "Installing collected packages: earthpy\n",
            "Successfully installed earthpy-0.9.4\n",
            "Looking in indexes: https://pypi.org/simple, https://us-python.pkg.dev/colab-wheels/public/simple/\n",
            "Collecting rioxarray\n",
            "  Downloading rioxarray-0.13.2-py3-none-any.whl (53 kB)\n",
            "\u001b[K     |████████████████████████████████| 53 kB 1.4 MB/s \n",
            "\u001b[?25hRequirement already satisfied: xarray>=0.17 in /usr/local/lib/python3.8/dist-packages (from rioxarray) (0.20.2)\n",
            "Requirement already satisfied: packaging in /usr/local/lib/python3.8/dist-packages (from rioxarray) (21.3)\n",
            "Requirement already satisfied: rasterio>=1.1.1 in /usr/local/lib/python3.8/dist-packages (from rioxarray) (1.3.4)\n",
            "Requirement already satisfied: pyproj>=2.2 in /usr/local/lib/python3.8/dist-packages (from rioxarray) (3.4.1)\n",
            "Requirement already satisfied: certifi in /usr/local/lib/python3.8/dist-packages (from pyproj>=2.2->rioxarray) (2022.9.24)\n",
            "Requirement already satisfied: setuptools in /usr/local/lib/python3.8/dist-packages (from rasterio>=1.1.1->rioxarray) (57.4.0)\n",
            "Requirement already satisfied: click>=4.0 in /usr/local/lib/python3.8/dist-packages (from rasterio>=1.1.1->rioxarray) (7.1.2)\n",
            "Requirement already satisfied: numpy>=1.18 in /usr/local/lib/python3.8/dist-packages (from rasterio>=1.1.1->rioxarray) (1.21.6)\n",
            "Requirement already satisfied: attrs in /usr/local/lib/python3.8/dist-packages (from rasterio>=1.1.1->rioxarray) (22.1.0)\n",
            "Requirement already satisfied: click-plugins in /usr/local/lib/python3.8/dist-packages (from rasterio>=1.1.1->rioxarray) (1.1.1)\n",
            "Requirement already satisfied: snuggs>=1.4.1 in /usr/local/lib/python3.8/dist-packages (from rasterio>=1.1.1->rioxarray) (1.4.7)\n",
            "Requirement already satisfied: cligj>=0.5 in /usr/local/lib/python3.8/dist-packages (from rasterio>=1.1.1->rioxarray) (0.7.2)\n",
            "Requirement already satisfied: affine in /usr/local/lib/python3.8/dist-packages (from rasterio>=1.1.1->rioxarray) (2.3.1)\n",
            "Requirement already satisfied: pyparsing>=2.1.6 in /usr/local/lib/python3.8/dist-packages (from snuggs>=1.4.1->rasterio>=1.1.1->rioxarray) (3.0.9)\n",
            "Requirement already satisfied: pandas>=1.1 in /usr/local/lib/python3.8/dist-packages (from xarray>=0.17->rioxarray) (1.3.5)\n",
            "Requirement already satisfied: pytz>=2017.3 in /usr/local/lib/python3.8/dist-packages (from pandas>=1.1->xarray>=0.17->rioxarray) (2022.6)\n",
            "Requirement already satisfied: python-dateutil>=2.7.3 in /usr/local/lib/python3.8/dist-packages (from pandas>=1.1->xarray>=0.17->rioxarray) (2.8.2)\n",
            "Requirement already satisfied: six>=1.5 in /usr/local/lib/python3.8/dist-packages (from python-dateutil>=2.7.3->pandas>=1.1->xarray>=0.17->rioxarray) (1.15.0)\n",
            "Installing collected packages: rioxarray\n",
            "Successfully installed rioxarray-0.13.2\n",
            "Looking in indexes: https://pypi.org/simple, https://us-python.pkg.dev/colab-wheels/public/simple/\n",
            "Collecting rasterstats\n",
            "  Downloading rasterstats-0.17.0-py3-none-any.whl (16 kB)\n",
            "Requirement already satisfied: fiona in /usr/local/lib/python3.8/dist-packages (from rasterstats) (1.8.22)\n",
            "Requirement already satisfied: rasterio>=1.0 in /usr/local/lib/python3.8/dist-packages (from rasterstats) (1.3.4)\n",
            "Requirement already satisfied: shapely in /usr/local/lib/python3.8/dist-packages (from rasterstats) (1.8.5.post1)\n",
            "Requirement already satisfied: cligj>=0.4 in /usr/local/lib/python3.8/dist-packages (from rasterstats) (0.7.2)\n",
            "Requirement already satisfied: affine<3.0 in /usr/local/lib/python3.8/dist-packages (from rasterstats) (2.3.1)\n",
            "Collecting simplejson\n",
            "  Downloading simplejson-3.18.0-cp38-cp38-manylinux_2_5_x86_64.manylinux1_x86_64.manylinux_2_12_x86_64.manylinux2010_x86_64.whl (139 kB)\n",
            "\u001b[K     |████████████████████████████████| 139 kB 7.1 MB/s \n",
            "\u001b[?25hRequirement already satisfied: numpy>=1.9 in /usr/local/lib/python3.8/dist-packages (from rasterstats) (1.21.6)\n",
            "Requirement already satisfied: click>=4.0 in /usr/local/lib/python3.8/dist-packages (from cligj>=0.4->rasterstats) (7.1.2)\n",
            "Requirement already satisfied: certifi in /usr/local/lib/python3.8/dist-packages (from rasterio>=1.0->rasterstats) (2022.9.24)\n",
            "Requirement already satisfied: snuggs>=1.4.1 in /usr/local/lib/python3.8/dist-packages (from rasterio>=1.0->rasterstats) (1.4.7)\n",
            "Requirement already satisfied: setuptools in /usr/local/lib/python3.8/dist-packages (from rasterio>=1.0->rasterstats) (57.4.0)\n",
            "Requirement already satisfied: click-plugins in /usr/local/lib/python3.8/dist-packages (from rasterio>=1.0->rasterstats) (1.1.1)\n",
            "Requirement already satisfied: attrs in /usr/local/lib/python3.8/dist-packages (from rasterio>=1.0->rasterstats) (22.1.0)\n",
            "Requirement already satisfied: pyparsing>=2.1.6 in /usr/local/lib/python3.8/dist-packages (from snuggs>=1.4.1->rasterio>=1.0->rasterstats) (3.0.9)\n",
            "Requirement already satisfied: six>=1.7 in /usr/local/lib/python3.8/dist-packages (from fiona->rasterstats) (1.15.0)\n",
            "Requirement already satisfied: munch in /usr/local/lib/python3.8/dist-packages (from fiona->rasterstats) (2.5.0)\n",
            "Installing collected packages: simplejson, rasterstats\n",
            "Successfully installed rasterstats-0.17.0 simplejson-3.18.0\n",
            "Looking in indexes: https://pypi.org/simple, https://us-python.pkg.dev/colab-wheels/public/simple/\n",
            "Collecting climata\n",
            "  Downloading climata-0.5.0.tar.gz (22 kB)\n",
            "Collecting wq.io>=0.7.0\n",
            "  Downloading wq.io-1.1.0.tar.gz (17 kB)\n",
            "Collecting owslib>=0.9\n",
            "  Downloading OWSLib-0.27.2-py2.py3-none-any.whl (218 kB)\n",
            "\u001b[K     |████████████████████████████████| 218 kB 7.7 MB/s \n",
            "\u001b[?25hCollecting suds-jurko\n",
            "  Downloading suds-jurko-0.6.zip (255 kB)\n",
            "\u001b[K     |████████████████████████████████| 255 kB 57.4 MB/s \n",
            "\u001b[?25hRequirement already satisfied: pyyaml in /usr/local/lib/python3.8/dist-packages (from owslib>=0.9->climata) (6.0)\n",
            "Requirement already satisfied: requests>=1.0 in /usr/local/lib/python3.8/dist-packages (from owslib>=0.9->climata) (2.23.0)\n",
            "Requirement already satisfied: pytz in /usr/local/lib/python3.8/dist-packages (from owslib>=0.9->climata) (2022.6)\n",
            "Requirement already satisfied: python-dateutil>=1.5 in /usr/local/lib/python3.8/dist-packages (from owslib>=0.9->climata) (2.8.2)\n",
            "Requirement already satisfied: six>=1.5 in /usr/local/lib/python3.8/dist-packages (from python-dateutil>=1.5->owslib>=0.9->climata) (1.15.0)\n",
            "Requirement already satisfied: idna<3,>=2.5 in /usr/local/lib/python3.8/dist-packages (from requests>=1.0->owslib>=0.9->climata) (2.10)\n",
            "Requirement already satisfied: chardet<4,>=3.0.2 in /usr/local/lib/python3.8/dist-packages (from requests>=1.0->owslib>=0.9->climata) (3.0.4)\n",
            "Requirement already satisfied: certifi>=2017.4.17 in /usr/local/lib/python3.8/dist-packages (from requests>=1.0->owslib>=0.9->climata) (2022.9.24)\n",
            "Requirement already satisfied: urllib3!=1.25.0,!=1.25.1,<1.26,>=1.21.1 in /usr/local/lib/python3.8/dist-packages (from requests>=1.0->owslib>=0.9->climata) (1.24.3)\n",
            "Collecting wq.core\n",
            "  Downloading wq.core-1.2.0-py3-none-any.whl (6.2 kB)\n",
            "Requirement already satisfied: xlrd in /usr/local/lib/python3.8/dist-packages (from wq.io>=0.7.0->climata) (1.2.0)\n",
            "Collecting click<6\n",
            "  Downloading click-5.1-py2.py3-none-any.whl (65 kB)\n",
            "\u001b[K     |████████████████████████████████| 65 kB 3.0 MB/s \n",
            "\u001b[?25hBuilding wheels for collected packages: climata, wq.io, suds-jurko\n",
            "  Building wheel for climata (setup.py) ... \u001b[?25l\u001b[?25hdone\n",
            "  Created wheel for climata: filename=climata-0.5.0-py3-none-any.whl size=28449 sha256=870e3ca66fde65d4331b92af7fb9b779efd5b9c08740cf73f61da1f5815fb536\n",
            "  Stored in directory: /root/.cache/pip/wheels/f0/5c/9b/bee695943d8c9219327c493b08fcfb1b210a66ee5eedb14ae3\n",
            "  Building wheel for wq.io (setup.py) ... \u001b[?25l\u001b[?25hdone\n",
            "  Created wheel for wq.io: filename=wq.io-1.1.0-py3-none-any.whl size=20526 sha256=5993d355c069589dd417eaf8a28ca3a01bc3e71573def872a8d7c1a0dfabb22d\n",
            "  Stored in directory: /root/.cache/pip/wheels/83/99/1b/5d26b733b75811f16d5e89c7f61a5424fc43e5f58c52d86dae\n",
            "  Building wheel for suds-jurko (setup.py) ... \u001b[?25l\u001b[?25hdone\n",
            "  Created wheel for suds-jurko: filename=suds_jurko-0.6-py3-none-any.whl size=455346 sha256=e3e9edfac814c6bf1ef816f180b0c5e23df3246a964b90c541386a21e19c7f8c\n",
            "  Stored in directory: /root/.cache/pip/wheels/06/07/2d/4a215688e287337aaf7b013535684aa25de98e7b589cfc5187\n",
            "Successfully built climata wq.io suds-jurko\n",
            "Installing collected packages: click, wq.core, wq.io, suds-jurko, owslib, climata\n",
            "  Attempting uninstall: click\n",
            "    Found existing installation: click 7.1.2\n",
            "    Uninstalling click-7.1.2:\n",
            "      Successfully uninstalled click-7.1.2\n",
            "\u001b[31mERROR: pip's dependency resolver does not currently take into account all the packages that are installed. This behaviour is the source of the following dependency conflicts.\n",
            "typer 0.7.0 requires click<9.0.0,>=7.1.1, but you have click 5.1 which is incompatible.\n",
            "pip-tools 6.2.0 requires click>=7, but you have click 5.1 which is incompatible.\n",
            "distributed 2022.2.1 requires click>=6.6, but you have click 5.1 which is incompatible.\u001b[0m\n",
            "Successfully installed click-5.1 climata-0.5.0 owslib-0.27.2 suds-jurko-0.6 wq.core-1.2.0 wq.io-1.1.0\n"
          ]
        }
      ],
      "source": [
        "!pip install geopandas\n",
        "!pip install libpysal\n",
        "!pip install rasterio\n",
        "!pip install earthpy\n",
        "!pip install rioxarray\n",
        "!pip install rasterstats\n",
        "!pip install climata"
      ]
    },
    {
      "cell_type": "code",
      "source": [
        "import numpy as np\n",
        "import numpy.ma as ma\n",
        "import geopandas as gpd\n",
        "import pandas as pd\n",
        "from pandas.plotting import register_matplotlib_converters\n",
        "from climata.usgs import DailyValueIO, InstantValueIO\n",
        "\n",
        "import matplotlib\n",
        "import matplotlib.pyplot as plt\n",
        "import seaborn as sns\n",
        "import rasterio as rio\n",
        "from rasterio.plot import plotting_extent\n",
        "import earthpy as et\n",
        "import earthpy.plot as ep\n",
        "import os\n",
        "import rioxarray as rxr"
      ],
      "metadata": {
        "id": "9Yt1ub-MJuI8"
      },
      "execution_count": 2,
      "outputs": []
    },
    {
      "cell_type": "code",
      "source": [
        "register_matplotlib_converters()\n",
        "plt.style.use('ggplot')\n",
        "plt.rcParams['figure.figsize'] = (20.0, 10.0)"
      ],
      "metadata": {
        "id": "QzxW3958JzTH"
      },
      "execution_count": 3,
      "outputs": []
    },
    {
      "cell_type": "code",
      "source": [
        "# set parameters\n",
        "nyears = 1\n",
        "ndays = 365 * nyears\n",
        "huc = \"02020004\"\n",
        "station_ids = [\"01354330\", \"01354500\", \"01355475\", \"01356000\"]\n",
        "param_id = \"00065\"\n",
        "\n",
        "data = DailyValueIO(\n",
        "    start_date=\"2019-02-07\",\n",
        "    end_date=\"2019-02-19\",\n",
        "    station= station_ids\n",
        ")\n",
        "\n",
        "date = []\n",
        "value = []\n",
        "\n",
        "for series in data:\n",
        "    for row in series.data:\n",
        "        date.append(row[0])\n",
        "        value.append(row[1])"
      ],
      "metadata": {
        "id": "4-xLrFHYJ2s8"
      },
      "execution_count": 4,
      "outputs": []
    },
    {
      "cell_type": "code",
      "source": [
        "site_names = [[series.site_name] * len(series.data) for series in data]\n",
        "\n",
        "# unroll the list of lists\n",
        "flat_site_names = [item for sublist in site_names for item in sublist]"
      ],
      "metadata": {
        "id": "h3tRPzYJJ-RT"
      },
      "execution_count": 5,
      "outputs": []
    },
    {
      "cell_type": "code",
      "source": [
        "print(site_names)"
      ],
      "metadata": {
        "colab": {
          "base_uri": "https://localhost:8080/"
        },
        "id": "DY3pS4BBJ-JX",
        "outputId": "6990f8c6-13c8-4c44-fec5-3b1b022aaa71"
      },
      "execution_count": 6,
      "outputs": [
        {
          "output_type": "stream",
          "name": "stdout",
          "text": [
            "[['MOHAWK RIVER AT LOCK 8 NEAR SCHENECTADY NY', 'MOHAWK RIVER AT LOCK 8 NEAR SCHENECTADY NY', 'MOHAWK RIVER AT LOCK 8 NEAR SCHENECTADY NY', 'MOHAWK RIVER AT LOCK 8 NEAR SCHENECTADY NY', 'MOHAWK RIVER AT LOCK 8 NEAR SCHENECTADY NY', 'MOHAWK RIVER AT LOCK 8 NEAR SCHENECTADY NY', 'MOHAWK RIVER AT LOCK 8 NEAR SCHENECTADY NY', 'MOHAWK RIVER AT LOCK 8 NEAR SCHENECTADY NY', 'MOHAWK RIVER AT LOCK 8 NEAR SCHENECTADY NY', 'MOHAWK RIVER AT LOCK 8 NEAR SCHENECTADY NY', 'MOHAWK RIVER AT LOCK 8 NEAR SCHENECTADY NY', 'MOHAWK RIVER AT LOCK 8 NEAR SCHENECTADY NY', 'MOHAWK RIVER AT LOCK 8 NEAR SCHENECTADY NY'], [\"MOHAWK RIVER AT FREEMAN'S BRIDGE AT SCHENECTADY NY\", \"MOHAWK RIVER AT FREEMAN'S BRIDGE AT SCHENECTADY NY\", \"MOHAWK RIVER AT FREEMAN'S BRIDGE AT SCHENECTADY NY\", \"MOHAWK RIVER AT FREEMAN'S BRIDGE AT SCHENECTADY NY\", \"MOHAWK RIVER AT FREEMAN'S BRIDGE AT SCHENECTADY NY\", \"MOHAWK RIVER AT FREEMAN'S BRIDGE AT SCHENECTADY NY\", \"MOHAWK RIVER AT FREEMAN'S BRIDGE AT SCHENECTADY NY\", \"MOHAWK RIVER AT FREEMAN'S BRIDGE AT SCHENECTADY NY\", \"MOHAWK RIVER AT FREEMAN'S BRIDGE AT SCHENECTADY NY\", \"MOHAWK RIVER AT FREEMAN'S BRIDGE AT SCHENECTADY NY\", \"MOHAWK RIVER AT FREEMAN'S BRIDGE AT SCHENECTADY NY\", \"MOHAWK RIVER AT FREEMAN'S BRIDGE AT SCHENECTADY NY\", \"MOHAWK RIVER AT FREEMAN'S BRIDGE AT SCHENECTADY NY\"], ['MOHAWK RIVER AT REXFORD NY', 'MOHAWK RIVER AT REXFORD NY', 'MOHAWK RIVER AT REXFORD NY', 'MOHAWK RIVER AT REXFORD NY', 'MOHAWK RIVER AT REXFORD NY', 'MOHAWK RIVER AT REXFORD NY', 'MOHAWK RIVER AT REXFORD NY', 'MOHAWK RIVER AT REXFORD NY', 'MOHAWK RIVER AT REXFORD NY', 'MOHAWK RIVER AT REXFORD NY', 'MOHAWK RIVER AT REXFORD NY', 'MOHAWK RIVER AT REXFORD NY', 'MOHAWK RIVER AT REXFORD NY'], [], ['MOHAWK RIVER AT VISCHER FERRY DAM NY', 'MOHAWK RIVER AT VISCHER FERRY DAM NY', 'MOHAWK RIVER AT VISCHER FERRY DAM NY', 'MOHAWK RIVER AT VISCHER FERRY DAM NY', 'MOHAWK RIVER AT VISCHER FERRY DAM NY', 'MOHAWK RIVER AT VISCHER FERRY DAM NY', 'MOHAWK RIVER AT VISCHER FERRY DAM NY', 'MOHAWK RIVER AT VISCHER FERRY DAM NY', 'MOHAWK RIVER AT VISCHER FERRY DAM NY', 'MOHAWK RIVER AT VISCHER FERRY DAM NY', 'MOHAWK RIVER AT VISCHER FERRY DAM NY', 'MOHAWK RIVER AT VISCHER FERRY DAM NY', 'MOHAWK RIVER AT VISCHER FERRY DAM NY']]\n"
          ]
        }
      ]
    },
    {
      "cell_type": "code",
      "source": [
        "# bundle the data into a data frame\n",
        "df = pd.DataFrame({'site': flat_site_names, \n",
        "                   'date': date, \n",
        "                   'value': value})\n",
        "\n",
        "# remove missing values\n",
        "df = df[df['value'] != -999999.0]"
      ],
      "metadata": {
        "id": "SFpiygt7KDly"
      },
      "execution_count": 7,
      "outputs": []
    },
    {
      "cell_type": "code",
      "source": [
        "print(df)"
      ],
      "metadata": {
        "colab": {
          "base_uri": "https://localhost:8080/"
        },
        "id": "rGBkyOevKEbu",
        "outputId": "3ab563ea-6591-4ece-f75d-320ae59a4cfd"
      },
      "execution_count": 8,
      "outputs": [
        {
          "output_type": "stream",
          "name": "stdout",
          "text": [
            "                                                 site       date     value\n",
            "0          MOHAWK RIVER AT LOCK 8 NEAR SCHENECTADY NY 2019-02-07     21.58\n",
            "1          MOHAWK RIVER AT LOCK 8 NEAR SCHENECTADY NY 2019-02-08     23.65\n",
            "2          MOHAWK RIVER AT LOCK 8 NEAR SCHENECTADY NY 2019-02-09     24.56\n",
            "3          MOHAWK RIVER AT LOCK 8 NEAR SCHENECTADY NY 2019-02-10     21.44\n",
            "4          MOHAWK RIVER AT LOCK 8 NEAR SCHENECTADY NY 2019-02-11     19.41\n",
            "5          MOHAWK RIVER AT LOCK 8 NEAR SCHENECTADY NY 2019-02-12     17.79\n",
            "6          MOHAWK RIVER AT LOCK 8 NEAR SCHENECTADY NY 2019-02-13     16.79\n",
            "7          MOHAWK RIVER AT LOCK 8 NEAR SCHENECTADY NY 2019-02-14     16.84\n",
            "8          MOHAWK RIVER AT LOCK 8 NEAR SCHENECTADY NY 2019-02-15     16.90\n",
            "9          MOHAWK RIVER AT LOCK 8 NEAR SCHENECTADY NY 2019-02-16     16.88\n",
            "10         MOHAWK RIVER AT LOCK 8 NEAR SCHENECTADY NY 2019-02-17     16.26\n",
            "11         MOHAWK RIVER AT LOCK 8 NEAR SCHENECTADY NY 2019-02-18     15.95\n",
            "12         MOHAWK RIVER AT LOCK 8 NEAR SCHENECTADY NY 2019-02-19     15.53\n",
            "13  MOHAWK RIVER AT FREEMAN'S BRIDGE AT SCHENECTAD... 2019-02-07  20100.00\n",
            "14  MOHAWK RIVER AT FREEMAN'S BRIDGE AT SCHENECTAD... 2019-02-08  27900.00\n",
            "15  MOHAWK RIVER AT FREEMAN'S BRIDGE AT SCHENECTAD... 2019-02-09  31900.00\n",
            "16  MOHAWK RIVER AT FREEMAN'S BRIDGE AT SCHENECTAD... 2019-02-10  20000.00\n",
            "17  MOHAWK RIVER AT FREEMAN'S BRIDGE AT SCHENECTAD... 2019-02-11  14100.00\n",
            "18  MOHAWK RIVER AT FREEMAN'S BRIDGE AT SCHENECTAD... 2019-02-12  10100.00\n",
            "19  MOHAWK RIVER AT FREEMAN'S BRIDGE AT SCHENECTAD... 2019-02-13   7850.00\n",
            "20  MOHAWK RIVER AT FREEMAN'S BRIDGE AT SCHENECTAD... 2019-02-14   8080.00\n",
            "21  MOHAWK RIVER AT FREEMAN'S BRIDGE AT SCHENECTAD... 2019-02-15   8420.00\n",
            "22  MOHAWK RIVER AT FREEMAN'S BRIDGE AT SCHENECTAD... 2019-02-16   8500.00\n",
            "23  MOHAWK RIVER AT FREEMAN'S BRIDGE AT SCHENECTAD... 2019-02-17   7600.00\n",
            "24  MOHAWK RIVER AT FREEMAN'S BRIDGE AT SCHENECTAD... 2019-02-18   7040.00\n",
            "25  MOHAWK RIVER AT FREEMAN'S BRIDGE AT SCHENECTAD... 2019-02-19   6380.00\n",
            "26                         MOHAWK RIVER AT REXFORD NY 2019-02-07     14.32\n",
            "27                         MOHAWK RIVER AT REXFORD NY 2019-02-08     16.09\n",
            "28                         MOHAWK RIVER AT REXFORD NY 2019-02-09     18.74\n",
            "29                         MOHAWK RIVER AT REXFORD NY 2019-02-10     15.71\n",
            "30                         MOHAWK RIVER AT REXFORD NY 2019-02-11     13.76\n",
            "31                         MOHAWK RIVER AT REXFORD NY 2019-02-12     12.41\n",
            "32                         MOHAWK RIVER AT REXFORD NY 2019-02-13     11.58\n",
            "33                         MOHAWK RIVER AT REXFORD NY 2019-02-14     11.56\n",
            "34                         MOHAWK RIVER AT REXFORD NY 2019-02-15     11.59\n",
            "35                         MOHAWK RIVER AT REXFORD NY 2019-02-16     11.45\n",
            "36                         MOHAWK RIVER AT REXFORD NY 2019-02-17     11.10\n",
            "37                         MOHAWK RIVER AT REXFORD NY 2019-02-18     10.82\n",
            "38                         MOHAWK RIVER AT REXFORD NY 2019-02-19     10.46\n",
            "39               MOHAWK RIVER AT VISCHER FERRY DAM NY 2019-02-07     11.40\n",
            "40               MOHAWK RIVER AT VISCHER FERRY DAM NY 2019-02-08     11.85\n",
            "41               MOHAWK RIVER AT VISCHER FERRY DAM NY 2019-02-09     12.23\n",
            "42               MOHAWK RIVER AT VISCHER FERRY DAM NY 2019-02-10     11.47\n",
            "43               MOHAWK RIVER AT VISCHER FERRY DAM NY 2019-02-11     10.94\n",
            "44               MOHAWK RIVER AT VISCHER FERRY DAM NY 2019-02-12     10.51\n",
            "45               MOHAWK RIVER AT VISCHER FERRY DAM NY 2019-02-13     10.17\n",
            "46               MOHAWK RIVER AT VISCHER FERRY DAM NY 2019-02-14     10.18\n",
            "47               MOHAWK RIVER AT VISCHER FERRY DAM NY 2019-02-15     10.25\n",
            "48               MOHAWK RIVER AT VISCHER FERRY DAM NY 2019-02-16     10.26\n",
            "49               MOHAWK RIVER AT VISCHER FERRY DAM NY 2019-02-17     10.14\n",
            "50               MOHAWK RIVER AT VISCHER FERRY DAM NY 2019-02-18     10.02\n",
            "51               MOHAWK RIVER AT VISCHER FERRY DAM NY 2019-02-19      9.77\n"
          ]
        }
      ]
    },
    {
      "cell_type": "code",
      "source": [
        "lock8_vd_0219 = value[12] - value[0]\n",
        "print(lock8_vd_0219)"
      ],
      "metadata": {
        "colab": {
          "base_uri": "https://localhost:8080/"
        },
        "id": "dTp_zNeOKqtK",
        "outputId": "743a31d5-3e7e-467e-cbf1-28e56241fc01"
      },
      "execution_count": 10,
      "outputs": [
        {
          "output_type": "stream",
          "name": "stdout",
          "text": [
            "-6.049999999999999\n"
          ]
        }
      ]
    },
    {
      "cell_type": "code",
      "source": [
        "freemans_vd_0219 = value[25] - value[13]\n",
        "print(freemans_vd_0219)"
      ],
      "metadata": {
        "colab": {
          "base_uri": "https://localhost:8080/"
        },
        "id": "PXxsrYN-Kty-",
        "outputId": "b61e1c03-a8e0-4f44-ab5a-547528156e5d"
      },
      "execution_count": 11,
      "outputs": [
        {
          "output_type": "stream",
          "name": "stdout",
          "text": [
            "-13720.0\n"
          ]
        }
      ]
    },
    {
      "cell_type": "code",
      "source": [
        "rexford_vd_0219 = value[38] - value[26]\n",
        "print(rexford_vd_0219)"
      ],
      "metadata": {
        "colab": {
          "base_uri": "https://localhost:8080/"
        },
        "id": "onZ70hgJKxfz",
        "outputId": "c4b569da-defc-4484-e3ad-723704bfb8b3"
      },
      "execution_count": 12,
      "outputs": [
        {
          "output_type": "stream",
          "name": "stdout",
          "text": [
            "-3.8599999999999994\n"
          ]
        }
      ]
    },
    {
      "cell_type": "code",
      "source": [
        "vischer_vd_0219 = value[51] - value[39]\n",
        "print(vischer_vd_0219)"
      ],
      "metadata": {
        "colab": {
          "base_uri": "https://localhost:8080/"
        },
        "id": "3kzoIm9NKztE",
        "outputId": "2d09b63d-143b-4b74-8b2d-790c53c7b8e6"
      },
      "execution_count": 13,
      "outputs": [
        {
          "output_type": "stream",
          "name": "stdout",
          "text": [
            "-1.6300000000000008\n"
          ]
        }
      ]
    },
    {
      "cell_type": "code",
      "source": [
        "# visualize flow time series, coloring by site\n",
        "groups = df.groupby('site')\n",
        "fig, ax = plt.subplots()\n",
        "for name, group in groups:\n",
        "    ax.plot(group.date, group.value, marker='o', linestyle='-', ms=2, label=name)\n",
        "ax.legend(bbox_to_anchor=(1.05, 1), loc=2, borderaxespad=0.)\n",
        "plt.xlabel('Date')\n",
        "plt.ylabel('Streamflow')\n",
        "plt.xticks(rotation='vertical')\n",
        "plt.yscale('log')\n",
        "plt.show()"
      ],
      "metadata": {
        "colab": {
          "base_uri": "https://localhost:8080/",
          "height": 584
        },
        "id": "oWjVR-TjKGkk",
        "outputId": "f2482c20-b881-489c-d2b3-d7093695011e"
      },
      "execution_count": 9,
      "outputs": [
        {
          "output_type": "display_data",
          "data": {
            "text/plain": [
              "<Figure size 1440x720 with 1 Axes>"
            ],
            "image/png": "[encoded data removed]"
          },
          "metadata": {}
        }
      ]
    },
    {
      "cell_type": "code",
      "source": [
        "lock8_0207 = [-1.5500000000000007]\n",
        "freemans_0207 = [-2100.0]\n",
        "rexford_0207 = [-1.870000000000001]\n",
        "vischer_0207 = [-0.15000000000000036]"
      ],
      "metadata": {
        "id": "G_lC3UiwMeuI"
      },
      "execution_count": 20,
      "outputs": []
    },
    {
      "cell_type": "code",
      "source": [
        "lock8_0219 = [-6.049999999999999]\n",
        "freemans_0219 = [-13720.0]\n",
        "rexford_0219 = [-3.8599999999999994]\n",
        "vischer_0219 = [-1.6300000000000008]"
      ],
      "metadata": {
        "id": "UMhevvhSStMR"
      },
      "execution_count": 24,
      "outputs": []
    },
    {
      "cell_type": "code",
      "source": [
        "#convert stream gage measurements from ft3 to m3\n",
        "lock8_0207_m = lock8_0207[0]*0.0283168\n",
        "freemans_0207_m = freemans_0207[0]*0.0283168\n",
        "rexford_0207_m = rexford_0207[0]*0.0283168\n",
        "vischer_0207_m = vischer_0207[0]*0.0283168\n",
        "lock8_0219_m = lock8_0219[0]*0.0283168\n",
        "freemans_0219_m = freemans_0219[0]*0.0283168\n",
        "rexford_0219_m = rexford_0219[0]*0.0283168\n",
        "vischer_0219_m = vischer_0219[0]*0.0283168"
      ],
      "metadata": {
        "id": "fh_FTYE5X29W"
      },
      "execution_count": 38,
      "outputs": []
    },
    {
      "cell_type": "code",
      "source": [
        "start_date = [\"2019-01-26\", \"2019-02-07\"]\n",
        "end_date = [\"2019-02-07\", \"2019-02-19\"]\n",
        "lock8_vertdisp = [lock8_0207_m, lock8_0219_m]\n",
        "rexford_vertdisp = [rexford_0207_m, rexford_0219_m]\n",
        "freemans_vertdisp = [freemans_0207_m, freemans_0219_m]\n",
        "vischer_vertdisp = [vischer_0207_m, vischer_0219_m]"
      ],
      "metadata": {
        "id": "WKqI1pCoLpEj"
      },
      "execution_count": 39,
      "outputs": []
    },
    {
      "cell_type": "code",
      "source": [
        "streamgages_vertdisp = pd.DataFrame({'start_date':start_date, 'end_date':end_date, 'lock8_vertdisp':lock8_vertdisp, 'rexford_vertdisp':rexford_vertdisp, 'freemans_vertdisp':freemans_vertdisp, 'vischer_vertdisp':vischer_vertdisp})"
      ],
      "metadata": {
        "id": "RVsVJ1VNRdky"
      },
      "execution_count": 40,
      "outputs": []
    },
    {
      "cell_type": "code",
      "source": [
        "print(streamgages_vertdisp)"
      ],
      "metadata": {
        "colab": {
          "base_uri": "https://localhost:8080/"
        },
        "id": "hISTNkE9RmF-",
        "outputId": "86298ff8-90c4-46ca-ac53-b923a8316b9f"
      },
      "execution_count": 41,
      "outputs": [
        {
          "output_type": "stream",
          "name": "stdout",
          "text": [
            "   start_date    end_date  lock8_vertdisp  rexford_vertdisp  \\\n",
            "0  2019-01-26  2019-02-07       -0.043891         -0.052952   \n",
            "1  2019-02-07  2019-02-19       -0.171317         -0.109303   \n",
            "\n",
            "   freemans_vertdisp  vischer_vertdisp  \n",
            "0         -59.465280         -0.004248  \n",
            "1        -388.506496         -0.046156  \n"
          ]
        }
      ]
    },
    {
      "cell_type": "code",
      "source": [],
      "metadata": {
        "id": "rHiszO2mVVVB"
      },
      "execution_count": null,
      "outputs": []
    }
  ]
}