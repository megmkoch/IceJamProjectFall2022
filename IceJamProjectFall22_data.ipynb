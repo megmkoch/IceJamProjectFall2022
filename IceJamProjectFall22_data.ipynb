{
  "nbformat": 4,
  "nbformat_minor": 0,
  "metadata": {
    "colab": {
      "provenance": [],
      "authorship_tag": "ABX9TyMamrN0Uxl6OJdLVmIx/XoT",
      "include_colab_link": true
    },
    "kernelspec": {
      "name": "python3",
      "display_name": "Python 3"
    },
    "language_info": {
      "name": "python"
    }
  },
  "cells": [
    {
      "cell_type": "markdown",
      "metadata": {
        "id": "view-in-github",
        "colab_type": "text"
      },
      "source": [
        "<a href=\"https://colab.research.google.com/github/megmkoch/IceJamProjectFall2022/blob/main/IceJamProjectFall22_data.ipynb\" target=\"_parent\"><img src=\"https://colab.research.google.com/assets/colab-badge.svg\" alt=\"Open In Colab\"/></a>"
      ]
    },
    {
      "cell_type": "code",
      "execution_count": null,
      "metadata": {
        "id": "Z5rOLMHG1VHM"
      },
      "outputs": [],
      "source": [
        "#2019-2020\n",
        "  #Dec12-Dec16\n",
        "https://d3gm2hf49xd6jj.cloudfront.net/cf19619e-2508-4aca-8855-a4af0c9092ec/S1AA_20191204T225135_20191216T225135_VVP012_INT80_G_ueF_813B.zip\n",
        "  #Dec16-Dec28\n",
        "https://d3gm2hf49xd6jj.cloudfront.net/0ca05be3-fdf8-4351-8fe8-30b539b81c8d/S1AA_20191216T225135_20191228T225134_VVP012_INT80_G_ueF_A075.zip\n",
        "  #Dec28-Jan09\n",
        "https://d3gm2hf49xd6jj.cloudfront.net/987041f9-a059-4086-af22-0218cbcacd1c/S1AA_20191228T225134_20200109T225134_VVP012_INT80_G_ueF_4B2F.zip\n",
        "  #Jan09-Jan21\n",
        "https://d3gm2hf49xd6jj.cloudfront.net/966ad146-fa26-4ed7-9491-e2e9507f41ab/S1AA_20200109T225134_20200121T225133_VVP012_INT80_G_ueF_AFD7.zip\n",
        "  #Jan21-Feb02\n",
        "https://d3gm2hf49xd6jj.cloudfront.net/aae02d14-926f-4394-ad81-12904a884c15/S1AA_20200121T225133_20200202T225133_VVP012_INT80_G_ueF_9C76.zip\n",
        "  #Feb02-Feb14\n",
        "https://d3gm2hf49xd6jj.cloudfront.net/a3830581-0cd9-47f0-8834-679f06cf5032/S1AA_20200202T225133_20200214T225132_VVP012_INT80_G_ueF_2C56.zip\n",
        "  #Feb14-Feb26\n",
        "https://d3gm2hf49xd6jj.cloudfront.net/47347fc5-4662-40a5-bb1e-dd517ced1e0c/S1AA_20200214T225132_20200226T225132_VVP012_INT80_G_ueF_1BFC.zip\n",
        "  #Feb26-Mar09\n",
        "https://d3gm2hf49xd6jj.cloudfront.net/129147e0-248e-4757-996d-b666209f22ef/S1AA_20200226T225132_20200309T225132_VVP012_INT80_G_ueF_5D02.zip\n",
        "  #Mar09-Mar21\n",
        "https://d3gm2hf49xd6jj.cloudfront.net/0d6c13f0-4eb8-44c8-b4a7-a73b906685d7/S1AA_20200309T225132_20200321T225133_VVP012_INT80_G_ueF_F1D7.zip\n",
        "\n",
        "\n",
        "#2018-2019\n",
        "\n",
        "  #Dec21-Jan02\n",
        "https://d3gm2hf49xd6jj.cloudfront.net/83b2b4f5-a27f-4223-b09b-bbd32380b3e8/S1AA_20181221T225128_20190102T225128_VVP012_INT80_G_ueF_34B2.zip\n",
        "  #Jan02-Jan14\n",
        "https://d3gm2hf49xd6jj.cloudfront.net/293b5930-f62b-499c-8e57-7ac6c9af80be/S1AA_20190102T225128_20190114T225127_VVP012_INT80_G_ueF_3B5C.zip\n",
        "  #Jan14-Jan26\n",
        "https://d3gm2hf49xd6jj.cloudfront.net/464bd779-adb3-4547-bd10-76d0a5feb693/S1AA_20190114T225127_20190126T225127_VVP012_INT80_G_ueF_21B7.zip\n",
        "  #Jan26-Feb07  \n",
        "https://d3gm2hf49xd6jj.cloudfront.net/437bbcd6-8457-417e-b773-9adfb6853f73/S1AA_20190126T225127_20190207T225126_VVP012_INT80_G_ueF_393C.zip\n",
        "  #Feb07-Feb19\n",
        "https://d3gm2hf49xd6jj.cloudfront.net/c4134f17-4daa-4657-ba33-64fb8ff4c82e/S1AA_20190207T225126_20190219T225126_VVP012_INT80_G_ueF_EE4F.zip\n",
        "  #Feb19-Mar03\n",
        "https://d3gm2hf49xd6jj.cloudfront.net/4a12623d-fd80-4436-90fd-b21ad070261d/S1AA_20190219T225126_20190303T225126_VVP012_INT80_G_ueF_3C62.zip\n",
        "  #Mar03-Mar15\n",
        "https://d3gm2hf49xd6jj.cloudfront.net/823a519d-99e8-400f-8fed-1fbf5b1cfda1/S1AA_20190303T225126_20190315T225126_VVP012_INT80_G_ueF_3B7A.zip\n",
        "  #Mar15-Mar27\n",
        "https://d3gm2hf49xd6jj.cloudfront.net/832e6efb-3827-4d73-a56d-65b2d572b087/S1AA_20190315T225126_20190327T225127_VVP012_INT80_G_ueF_9BF2.zip\n",
        "\n",
        "#2017-2018\n",
        "\n",
        "  #Dec02-Dec14\n",
        "https://d3gm2hf49xd6jj.cloudfront.net/9ddb8b1b-a5ef-4c6d-b4ab-39aa34d4df8a/S1AA_20171202T225122_20171214T225122_VVP012_INT80_G_ueF_32A3.zip\n",
        "  #Dec14-Dec26\n",
        "https://d3gm2hf49xd6jj.cloudfront.net/2d1d8103-bc7f-473f-a0d8-882b7a241aaf/S1AA_20171214T225122_20171226T225121_VVP012_INT80_G_ueF_41D2.zip\n",
        "  #Dec26-Jan07\n",
        "https://d3gm2hf49xd6jj.cloudfront.net/6b771cff-30e6-4a72-bbe8-fcfc877338df/S1AA_20171226T225121_20180107T225121_VVP012_INT80_G_ueF_69FF.zip\n",
        "  #Jan07-Jan19\n",
        "https://d3gm2hf49xd6jj.cloudfront.net/25cf539a-1ff6-43cd-881b-3adf2cb43103/S1AA_20180107T225121_20180119T225120_VVP012_INT80_G_ueF_A957.zip\n",
        "  #Jan19-Jan31\n",
        "https://d3gm2hf49xd6jj.cloudfront.net/b26a3145-a489-40da-ad1d-21aa95e4885f/S1AA_20180119T225120_20180131T225120_VVP012_INT80_G_ueF_6DEE.zip\n",
        "  #Jan31-Feb12\n",
        "https://d3gm2hf49xd6jj.cloudfront.net/87b99863-9f61-4e4d-9f8d-2b27d37c361c/S1AA_20180131T225120_20180212T225120_VVP012_INT80_G_ueF_5CCF.zip\n",
        "  #Feb12-Mar08\n",
        "https://d3gm2hf49xd6jj.cloudfront.net/b474d816-d080-475a-a7f6-af10ddc438fa/S1AA_20180212T225120_20180308T225120_VVP024_INT80_G_ueF_2586.zip\n",
        "  #Mar08-Mar20\n",
        "https://d3gm2hf49xd6jj.cloudfront.net/60652675-c468-4269-9286-d1d03b36ca40/S1AA_20180308T225120_20180320T225120_VVP012_INT80_G_ueF_CEFC.zip\n",
        "\n",
        "#2016-2017\n",
        "\n",
        "  #Dec07-Dec19\n",
        "https://d3gm2hf49xd6jj.cloudfront.net/01b03161-e18b-45f1-80f4-e396aa52714c/S1AA_20161207T225107_20161219T225107_VVP012_INT80_G_ueF_A6A0.zip\n",
        "  #Dec19-Dec31\n",
        "https://d3gm2hf49xd6jj.cloudfront.net/3d7bb95f-297a-4291-aa56-f446e1bad538/S1AA_20161219T225107_20161231T225106_VVP012_INT80_G_ueF_5825.zip\n",
        "  #Dec31-Jan12\n",
        "https://d3gm2hf49xd6jj.cloudfront.net/bddfe901-bcc1-46fb-a6d6-e81a439cd873/S1AA_20161231T225106_20170112T225105_VVP012_INT80_G_ueF_1EFF.zip\n",
        "  #Jan12-Jan24\n",
        "https://d3gm2hf49xd6jj.cloudfront.net/7f5e41f0-9d0a-4be2-8ff3-80a5dba48a1c/S1AA_20170112T225105_20170124T225104_VVP012_INT80_G_ueF_230B.zip\n",
        "  #Jan24-Feb05\n",
        "https://d3gm2hf49xd6jj.cloudfront.net/63765d36-b988-4c91-8710-6069a3493072/S1AA_20170124T225104_20170205T225104_VVP012_INT80_G_ueF_3FF9.zip\n",
        "  #Feb05-Feb17\n",
        "https://d3gm2hf49xd6jj.cloudfront.net/866da3ce-7e2b-45f5-b5db-fcafaafd6fb6/S1AA_20170205T225104_20170217T225113_VVP012_INT80_G_ueF_4124.zip\n",
        "  #Feb17-Mar13\n",
        "https://d3gm2hf49xd6jj.cloudfront.net/51f3d5b3-daa5-45e1-8c5a-4a59f09a47d0/S1AA_20170217T225113_20170313T225113_VVP024_INT80_G_ueF_E9FF.zip\n",
        "  #Mar13-Mar25\n",
        "https://d3gm2hf49xd6jj.cloudfront.net/356fe323-4709-4019-833b-491c5ce919e6/S1AA_20170313T225113_20170325T225113_VVP012_INT80_G_ueF_2115.zip\n",
        "\n",
        "\n",
        "\n",
        "\n",
        "\n",
        "\n",
        "\n",
        "\n",
        "\n",
        "\n",
        "\n",
        "\n"
      ]
    }
  ]
}